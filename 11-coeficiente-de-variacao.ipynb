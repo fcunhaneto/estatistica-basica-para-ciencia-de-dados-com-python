{
 "cells": [
  {
   "cell_type": "markdown",
   "id": "afe08269a9cd6a73",
   "metadata": {},
   "source": [
    "# Coeficiente de Variação"
   ]
  },
  {
   "cell_type": "markdown",
   "id": "37157936-3075-4b3b-8cce-39e37b36a93c",
   "metadata": {},
   "source": [
    "**O coeficiente de variação (CV) é um indicador da variabilidade de um conjunto de dados. Sua medida corresponde à razão percentual entre o desvio-padrão e a média dos dados.**"
   ]
  },
  {
   "cell_type": "markdown",
   "id": "d3cfdcc9-1259-49d8-9817-1ff1f84e055d",
   "metadata": {},
   "source": [
    "**Normalmente um coeficiente de variação: De até 15% indica dados dentro da média e baixa dispersão. Entre 15% e 30% indica dispersão média.**"
   ]
  },
  {
   "cell_type": "markdown",
   "id": "9a8af73e-4a49-44d6-ac9f-a8128c8e59f7",
   "metadata": {
    "ExecuteTime": {
     "end_time": "2025-03-08T19:41:24.867151Z",
     "start_time": "2025-03-08T19:41:24.865864Z"
    }
   },
   "source": [
    "## Coeficiente de Variação para População"
   ]
  },
  {
   "cell_type": "markdown",
   "id": "23727734-1d69-4fc5-bcd0-1fc7b1d0bfb9",
   "metadata": {},
   "source": [
    "<font size=\"5\">\n",
    "$\\text{CV = }\\Large \\frac{\\sigma}{\\mu}$\n",
    "</font>"
   ]
  },
  {
   "cell_type": "markdown",
   "id": "62831928-393f-4dee-93c2-7b3990ce8ce0",
   "metadata": {
    "ExecuteTime": {
     "end_time": "2025-03-08T19:41:24.867151Z",
     "start_time": "2025-03-08T19:41:24.865864Z"
    }
   },
   "source": [
    "## Coeficiente de Variação para Amostra"
   ]
  },
  {
   "cell_type": "markdown",
   "id": "1b873217-4c55-435c-90b9-2ff2a9b81245",
   "metadata": {},
   "source": [
    "<font size=\"5\">\n",
    "$\\text{CV = }\\Large \\frac{S}{\\bar{x}}$\n",
    "</font>"
   ]
  },
  {
   "cell_type": "markdown",
   "id": "da897364-b22a-4f9e-b25d-dd5ca3c84d32",
   "metadata": {},
   "source": "## Comparar coeficiente de variação entre altura dos homens e mulheres"
  },
  {
   "cell_type": "code",
   "id": "06c1ce87-ba43-47ef-8f90-a8b4d10e116c",
   "metadata": {
    "ExecuteTime": {
     "end_time": "2025-03-09T11:05:45.499100Z",
     "start_time": "2025-03-09T11:05:45.497352Z"
    }
   },
   "source": [
    "import pandas as pd\n",
    "import statistics as st"
   ],
   "outputs": [],
   "execution_count": 18
  },
  {
   "cell_type": "code",
   "id": "bd345240-81d4-4865-91d9-3909748bdd4b",
   "metadata": {
    "ExecuteTime": {
     "end_time": "2025-03-09T11:05:45.547682Z",
     "start_time": "2025-03-09T11:05:45.541865Z"
    }
   },
   "source": [
    "df = pd.read_csv('data/altura-peso-br.csv')\n",
    "\n",
    "mh = df.loc[df.Sexo == 'M']['Altura(m)']\n",
    "fh = df.loc[df.Sexo == 'F']['Altura(m)']"
   ],
   "outputs": [],
   "execution_count": 19
  },
  {
   "cell_type": "markdown",
   "id": "59099ec9-2881-4d1b-adb7-6f4e6978ba9b",
   "metadata": {},
   "source": [
    "Cálculo dos desvios padrões"
   ]
  },
  {
   "cell_type": "code",
   "id": "a4670d78-01ac-4902-85dd-de7c1bec0818",
   "metadata": {
    "ExecuteTime": {
     "end_time": "2025-03-09T11:05:45.594588Z",
     "start_time": "2025-03-09T11:05:45.588211Z"
    }
   },
   "source": [
    "print('S Masculino = ', st.stdev(mh))\n",
    "print('S Feminino = ', st.stdev(fh))"
   ],
   "outputs": [
    {
     "name": "stdout",
     "output_type": "stream",
     "text": [
      "S Masculino =  0.07286747582980191\n",
      "S Feminino =  0.06850207268975556\n"
     ]
    }
   ],
   "execution_count": 20
  },
  {
   "cell_type": "markdown",
   "id": "107c5d4c-c671-4320-968b-e247c14b64c3",
   "metadata": {},
   "source": [
    "Cálculo das médias"
   ]
  },
  {
   "cell_type": "code",
   "id": "691f5ef8-8ff5-4046-a448-668b39ce8b59",
   "metadata": {
    "ExecuteTime": {
     "end_time": "2025-03-09T11:05:45.646067Z",
     "start_time": "2025-03-09T11:05:45.640696Z"
    }
   },
   "source": [
    "print('Média Masculino = ', st.mean(mh))\n",
    "print('Média Feminino = ', st.mean(fh))"
   ],
   "outputs": [
    {
     "name": "stdout",
     "output_type": "stream",
     "text": [
      "Média Masculino =  1.75327\n",
      "Média Feminino =  1.618112\n"
     ]
    }
   ],
   "execution_count": 21
  },
  {
   "cell_type": "markdown",
   "id": "977cc2e9-7fe7-4955-be48-01c0aedc79bb",
   "metadata": {},
   "source": [
    "Cálculo dos coeficientes de variação"
   ]
  },
  {
   "cell_type": "code",
   "id": "72e4a336-b836-49e3-8569-67aace4759ae",
   "metadata": {
    "ExecuteTime": {
     "end_time": "2025-03-09T11:05:45.700539Z",
     "start_time": "2025-03-09T11:05:45.691127Z"
    }
   },
   "source": [
    "cvma = st.stdev(mh) / st.mean(mh) * 100\n",
    "cvfa = st.stdev(fh) / st.mean(fh) * 100\n",
    "\n",
    "print('CV Masculino = {0:.0f}%'.format(cvma))\n",
    "print('CV Feminino = {0:.0f}%'.format(cvfa))"
   ],
   "outputs": [
    {
     "name": "stdout",
     "output_type": "stream",
     "text": [
      "CV Masculino = 4%\n",
      "CV Feminino = 4%\n"
     ]
    }
   ],
   "execution_count": 22
  },
  {
   "metadata": {},
   "cell_type": "markdown",
   "source": "## Comparar coeficiente de variação entre o peso dos homens e mulheres",
   "id": "8c38cb2d2116438f"
  },
  {
   "metadata": {
    "ExecuteTime": {
     "end_time": "2025-03-09T11:05:45.749446Z",
     "start_time": "2025-03-09T11:05:45.745751Z"
    }
   },
   "cell_type": "code",
   "source": [
    "mp = df.loc[df.Sexo == 'M']['Peso(kg)']\n",
    "fp = df.loc[df.Sexo == 'F']['Peso(kg)']"
   ],
   "id": "ee2070e7ce60f58c",
   "outputs": [],
   "execution_count": 23
  },
  {
   "metadata": {
    "ExecuteTime": {
     "end_time": "2025-03-09T11:05:45.799315Z",
     "start_time": "2025-03-09T11:05:45.793345Z"
    }
   },
   "cell_type": "code",
   "source": [
    "print('S Masculino = ', st.stdev(mp))\n",
    "print('S Feminino = ', st.stdev(fp))"
   ],
   "id": "16cab29de1f2401c",
   "outputs": [
    {
     "name": "stdout",
     "output_type": "stream",
     "text": [
      "S Masculino =  8.972419975906433\n",
      "S Feminino =  8.628900165444785\n"
     ]
    }
   ],
   "execution_count": 24
  },
  {
   "metadata": {
    "ExecuteTime": {
     "end_time": "2025-03-09T11:05:45.907332Z",
     "start_time": "2025-03-09T11:05:45.902587Z"
    }
   },
   "cell_type": "code",
   "source": [
    "print('Média Masculino = ', st.mean(mp))\n",
    "print('Média Feminino = ', st.mean(mp))"
   ],
   "id": "84f460f7af98bd82",
   "outputs": [
    {
     "name": "stdout",
     "output_type": "stream",
     "text": [
      "Média Masculino =  84.8308\n",
      "Média Feminino =  84.8308\n"
     ]
    }
   ],
   "execution_count": 25
  },
  {
   "metadata": {
    "ExecuteTime": {
     "end_time": "2025-03-09T11:05:46.020277Z",
     "start_time": "2025-03-09T11:05:46.011669Z"
    }
   },
   "cell_type": "code",
   "source": [
    "cvmp = st.stdev(mp) / st.mean(mp) * 100\n",
    "cvfp = st.stdev(fp) / st.mean(fp) * 100\n",
    "\n",
    "print('CV Masculino = {0:.0f}%'.format(cvmp))\n",
    "print('CV Feminino = {0:.0f}%'.format(cvfp))"
   ],
   "id": "da7b79800e60c469",
   "outputs": [
    {
     "name": "stdout",
     "output_type": "stream",
     "text": [
      "CV Masculino = 11%\n",
      "CV Feminino = 14%\n"
     ]
    }
   ],
   "execution_count": 26
  },
  {
   "metadata": {
    "ExecuteTime": {
     "end_time": "2025-03-09T11:07:53.808416Z",
     "start_time": "2025-03-09T11:07:53.804187Z"
    }
   },
   "cell_type": "code",
   "source": [
    "dt = {'homens': {'cv_altura': 4, 'cv_peso': 11}, 'mulheres': {'cv_altura': 4, 'cv_peso': 14}}\n",
    "cvap = pd.DataFrame(data=dt)\n",
    "cvap"
   ],
   "id": "e70855ccc0e61019",
   "outputs": [
    {
     "data": {
      "text/plain": [
       "           homens  mulheres\n",
       "cv_altura       4         4\n",
       "cv_peso        11        14"
      ],
      "text/html": [
       "<div>\n",
       "<style scoped>\n",
       "    .dataframe tbody tr th:only-of-type {\n",
       "        vertical-align: middle;\n",
       "    }\n",
       "\n",
       "    .dataframe tbody tr th {\n",
       "        vertical-align: top;\n",
       "    }\n",
       "\n",
       "    .dataframe thead th {\n",
       "        text-align: right;\n",
       "    }\n",
       "</style>\n",
       "<table border=\"1\" class=\"dataframe\">\n",
       "  <thead>\n",
       "    <tr style=\"text-align: right;\">\n",
       "      <th></th>\n",
       "      <th>homens</th>\n",
       "      <th>mulheres</th>\n",
       "    </tr>\n",
       "  </thead>\n",
       "  <tbody>\n",
       "    <tr>\n",
       "      <th>cv_altura</th>\n",
       "      <td>4</td>\n",
       "      <td>4</td>\n",
       "    </tr>\n",
       "    <tr>\n",
       "      <th>cv_peso</th>\n",
       "      <td>11</td>\n",
       "      <td>14</td>\n",
       "    </tr>\n",
       "  </tbody>\n",
       "</table>\n",
       "</div>"
      ]
     },
     "execution_count": 29,
     "metadata": {},
     "output_type": "execute_result"
    }
   ],
   "execution_count": 29
  },
  {
   "metadata": {},
   "cell_type": "code",
   "outputs": [],
   "execution_count": null,
   "source": "",
   "id": "1d2d23f0dde55eb"
  }
 ],
 "metadata": {
  "kernelspec": {
   "display_name": "Python 3 (ipykernel)",
   "language": "python",
   "name": "python3"
  },
  "language_info": {
   "codemirror_mode": {
    "name": "ipython",
    "version": 3
   },
   "file_extension": ".py",
   "mimetype": "text/x-python",
   "name": "python",
   "nbconvert_exporter": "python",
   "pygments_lexer": "ipython3",
   "version": "3.12.9"
  }
 },
 "nbformat": 4,
 "nbformat_minor": 5
}
