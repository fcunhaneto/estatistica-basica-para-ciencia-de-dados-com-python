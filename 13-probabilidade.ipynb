{
 "cells": [
  {
   "cell_type": "markdown",
   "id": "e830e61353215fb",
   "metadata": {},
   "source": [
    "# Probabilidade"
   ]
  },
  {
   "cell_type": "markdown",
   "id": "41069e58d840bc32",
   "metadata": {},
   "source": [
    "<font size=\"4\">\n",
    "\n",
    "**Espaço Amostral:** todos os resultados possíveis de um experimento. Esse conjunto é frequentemente expresso pela letra grega maiúscula Ômega: $\\Omega$\n",
    "\n",
    "**Evento:** é qualquer subconjunto do espaço amostral $(\\Omega)$\n",
    "\n",
    "**Probabilidade:** chance de um evento acontecer.\n",
    "\n",
    "   - Escala de 0 a 1\n",
    "\n",
    "   - 0 $\\Rightarrow$ certo de não acontecer.\n",
    "\n",
    "   - 1 $\\Rightarrow$ certo que vai acontecer.\n",
    "\n",
    "   - Ex1: 0.05 $\\Rightarrow$ provavelmente não vai acontecer, mas pode acontecer.\n",
    "\n",
    "   - Ex2: 0.95 $\\Rightarrow$ provavelmente vai acontecer, mas pode não acontecer."
   ]
  },
  {
   "cell_type": "markdown",
   "id": "e8d29cbf23897574",
   "metadata": {},
   "source": [
    "## Probabilidade Teórica"
   ]
  },
  {
   "cell_type": "markdown",
   "id": "cb69dcca0aac6ad9",
   "metadata": {},
   "source": [
    "<font size=\"4\">\n",
    "\n",
    "O que se espera acontecer.\n",
    "\n",
    "$P(E) = \\Large \\frac{\\text{resultados}}{\\text{todo o espaço amostral}}$\n",
    "\n",
    "</font>\n",
    "\n",
    "___\n",
    "\n",
    "Exemplo: Qual a probabilidade de dar 6 ao jogar um dado?\n",
    "\n",
    "Espaço amostral {1, 2, 3, 4, 5, 6}.\n",
    "\n",
    "$P(6) = \\frac{1}{6} = 0,166666\\bar{6} \\cong 16,66\\bar{6}\\%$\n",
    "\n"
   ]
  },
  {
   "cell_type": "markdown",
   "id": "8c9206c639b0cb3e",
   "metadata": {},
   "source": [
    "## Probabilidade Empirica"
   ]
  },
  {
   "cell_type": "markdown",
   "id": "a6f71ddace5341a0",
   "metadata": {},
   "source": [
    "<font size=\"4\">\n",
    "\n",
    "A chance de algo acontecer baseado em um experimeto.\n",
    "\n",
    "</font>\n",
    "\n",
    "___\n",
    "\n",
    "Você realiza um experimento jogando um dado honesto 100 vezes é obtém o número 6 quinze vezes:\n",
    "\n",
    "$\\text{P(6) } \\cong \\frac{15}{100} \\cong 0.15 \\cong 15\\%$"
   ]
  },
  {
   "cell_type": "markdown",
   "id": "c6961436eaef4e63",
   "metadata": {},
   "source": [
    "## Probabilidade Condicional - Probabilidade de B ocorrer se A já ocorreu"
   ]
  },
  {
   "cell_type": "markdown",
   "id": "55150a55-a489-4f33-b8eb-9b877ef41488",
   "metadata": {},
   "source": [
    "<font size=\"4\">\n",
    "    \n",
    "$P(B|A) = \\Large \\frac{P(A \\cap B)}{P(A)}$\n",
    "\n",
    "</font>"
   ]
  },
  {
   "cell_type": "markdown",
   "id": "f943575c-245d-4545-bcb0-a3f005ec1bcb",
   "metadata": {},
   "source": [
    "## Probabilidade de B _e_ A ocorrerem juntos"
   ]
  },
  {
   "cell_type": "markdown",
   "id": "f5c1962c-5afe-4b8d-b382-5f271ac2a942",
   "metadata": {},
   "source": [
    "<font size=\"4\">\n",
    "\n",
    "$P(A\\cap B) = P(A)\\text{.}P(B|A)$\n",
    "\n",
    "</font>"
   ]
  },
  {
   "cell_type": "markdown",
   "id": "5b4777a0-1545-4d34-8c8a-7de0681fd981",
   "metadata": {},
   "source": [
    "## Probabilidade de A _ou_ B ocorrerem ou os dois ocorrerem"
   ]
  },
  {
   "cell_type": "markdown",
   "id": "16446ae4-7783-4a3b-95f4-69b624183586",
   "metadata": {},
   "source": [
    "<font size=\"4\">\n",
    "\n",
    "$P(A \\cup B) = P(A) + P(B) - P(A \\cap B)$\n",
    "\n",
    "</font>"
   ]
  },
  {
   "cell_type": "markdown",
   "id": "49e863846fab7106",
   "metadata": {},
   "source": [
    "## Eventos Independentes"
   ]
  },
  {
   "cell_type": "markdown",
   "id": "abea4bbc-58c0-4842-8032-b808660714d0",
   "metadata": {},
   "source": [
    "<font size=\"4\">\n",
    "    \n",
    "Quando um evento ocorre, não modifica a chance do outro evento ocorrer."
   ]
  },
  {
   "cell_type": "markdown",
   "id": "62044f59-e571-4bf0-a039-39b8b1f961f0",
   "metadata": {},
   "source": [
    "Exemplo:\n",
    "\n",
    "Lançamento de Moedas \n",
    "\n",
    "Lançar uma moeda duas vezes.\n",
    "\n",
    "- O evento A = \"sair cara no primeiro lançamento\".\n",
    "\n",
    "- O evento B = \"sair cara no segundo lançamento\".\n",
    "\n",
    "Como o primeiro lançamento não influencia o segundo, os eventos são independentes.\n",
    "\n",
    "$P(A) = 0.5$ e $𝑃(𝐵) = 0.5$ então: \n",
    "\n",
    "$P(A \\cap B) = P(A)P(B)$ = 0.5 x 0.5 = 0.25"
   ]
  },
  {
   "cell_type": "markdown",
   "id": "5dbecba2-2387-46ec-8a51-ca2f2f658c1e",
   "metadata": {},
   "source": [
    "## Eventos Mutuamente Exclusivos"
   ]
  },
  {
   "cell_type": "markdown",
   "id": "a6fb4eb7-9413-45d7-9011-e2428c7daaa4",
   "metadata": {},
   "source": [
    "<font size=\"4\">\n",
    "    \n",
    "Ambos não podem ocorrer ao mesmo tempo.\n",
    "\n",
    "$P(A \\cap B) = 0$"
   ]
  },
  {
   "cell_type": "markdown",
   "id": "537c68d7-433e-47ec-9f7b-0b52afbe8d8b",
   "metadata": {},
   "source": [
    "Exemplo: \n",
    "\n",
    "Lançar um dado e obter um número par ({2, 4, 6}) ou um número ímpar ({1, 3, 5}).\\\n",
    "Esses eventos são mutuamente exclusivos porque um número não pode ser par e ímpar ao mesmo tempo."
   ]
  },
  {
   "cell_type": "markdown",
   "id": "b7207558-102c-4de4-a58e-145aa989eedb",
   "metadata": {},
   "source": [
    "## Diagrama de Árvore"
   ]
  },
  {
   "cell_type": "markdown",
   "id": "8002cc4d-3ee7-4e8d-a59e-255f2c803283",
   "metadata": {},
   "source": [
    "Uma maneira prática de solucionar problemas de Probabilidade Condicional."
   ]
  },
  {
   "cell_type": "markdown",
   "id": "bd0d86fe-8637-4301-b00f-1f34d2c93294",
   "metadata": {},
   "source": [
    "![6 Carta de Uno](imagens/6cards.png)"
   ]
  },
  {
   "cell_type": "markdown",
   "id": "0205cda2-06ce-4a40-b3ee-2e09e5447210",
   "metadata": {},
   "source": [
    "Considerando a imagem acima, onde temos um total de 6 cartas, sendo 2 azuis e 4 vermelhas. Ao colocar essas cartas numa bolsa, retiraremos duas cartas em sequência, sem substituição. Responda qual a probabilidade em cada um dos seguintes cenários: 1. Azul na primeira, Azul na segunda. 2. Azul na primeira, Vermelha na segunda. 3. Vermelha na primeira, Azul na segunda. 4. Vermelha na primeira, Vermelha na segunda."
   ]
  },
  {
   "cell_type": "markdown",
   "id": "fda617a9-9bda-404e-8d8c-68017dcf74fc",
   "metadata": {},
   "source": [
    "![Diagram de Árvore](imagens/arvore.png)"
   ]
  },
  {
   "cell_type": "markdown",
   "id": "7212d191-58ca-4bb5-a32c-c87ff92206c5",
   "metadata": {},
   "source": [
    "## Probabilidade Condicional x Teorema de Bayes"
   ]
  },
  {
   "cell_type": "markdown",
   "id": "3d35a650-6ce5-4659-a17c-731de977d65c",
   "metadata": {},
   "source": [
    "<font size=\"4\">\n",
    "\n",
    "A Probabilidade Condicional e o Teorema de Bayes estão intimamente ligados, pois o Teorema de Bayes é uma aplicação direta do conceito de probabilidade condicional.\n",
    "\n",
    "</font>"
   ]
  },
  {
   "cell_type": "markdown",
   "id": "17a54fe8-bd6d-431e-a618-de4ba5076e9c",
   "metadata": {},
   "source": [
    "### Probabilidade Condicional"
   ]
  },
  {
   "cell_type": "markdown",
   "id": "9cde9959-05bb-4f9f-ab13-39e3dfa3dd06",
   "metadata": {},
   "source": [
    "Probabilidade de B ocorrer se A já ocorreu:\n",
    "\n",
    "$P(B|A) = \\Large \\frac{P(A \\cap B)}{P(A)}$"
   ]
  },
  {
   "cell_type": "markdown",
   "id": "4556d77d-8ff9-484a-bf07-cfce454187a9",
   "metadata": {},
   "source": [
    "### Teorema de Bayes"
   ]
  },
  {
   "cell_type": "markdown",
   "id": "4eabe0ad-da4a-446f-b953-2b43ac2b932b",
   "metadata": {},
   "source": [
    "<font size=\"4\">\n",
    "\n",
    "O Teorema de Bayes é uma fórmula derivada da probabilidade condicional.\n",
    "\n",
    "O Teorema de Bayes depende de três fatores:\n",
    "\n",
    "1. A probabilidade de um evento ocorrer dada uma Hipótese $P(B|A)$\n",
    "2. Probabilidade anterior da Hipótese $P(A)$\n",
    "3. Probabilidade anterior da Evidência $P(B)$\n",
    "\n",
    "$P(B|A) = \\frac{P(A|B) P(B)}{P(A)}$\n",
    "\n",
    "</font>"
   ]
  },
  {
   "cell_type": "markdown",
   "id": "d10c9841-83de-4302-b5ca-135f706264e8",
   "metadata": {},
   "source": [
    "O Teorema de Bayes depende de três fatores:\n",
    "\n",
    "1. A probabilidade de um evento ocorrer dada uma Hipótese $P(B|A)$\n",
    "2. Probabilidade anterior da Hipótese $P(A)$\n",
    "3. Probabilidade anterior da Evidência $P(B)$"
   ]
  },
  {
   "cell_type": "markdown",
   "id": "0444a019-53a0-4cf9-935d-839cdd0b4c08",
   "metadata": {},
   "source": [
    "Exemplo:\n",
    "\n",
    "Probabilidade de ter escolhido uma carta vermelha, sabendo que a carta é ímpar.\n",
    "\n",
    "* <strong>A</strong> = carta vermelha\n",
    "* <strong>B</strong> = carta ímpar\n",
    "\n",
    " * $P(A|B) = P(vermelha|ímpar) = ?$ \n",
    " * $P(B|A) = P(ímpar|vermelha) = 1/2$  \n",
    " * $P(A) = P(vermelha) = 4/6 = 2/3$\n",
    " * $P(B) = P(ímpar) = 4/6 = 2/3$\n",
    "\n",
    "$P(vermelha|ímpar) =  \\Large  {\\frac {P(ímpar|vermelha)\\cdot P(vermelha)} {P(ímpar)}} = {\\frac {{1/2} \\cdot {2/3}} {2/3}}={\\frac {1}{2}}=0.5$"
   ]
  },
  {
   "cell_type": "code",
   "execution_count": null,
   "id": "acce900a-426a-4ae6-9b44-a82a16302b1c",
   "metadata": {},
   "outputs": [],
   "source": []
  }
 ],
 "metadata": {
  "kernelspec": {
   "display_name": "Python 3 (ipykernel)",
   "language": "python",
   "name": "python3"
  },
  "language_info": {
   "codemirror_mode": {
    "name": "ipython",
    "version": 3
   },
   "file_extension": ".py",
   "mimetype": "text/x-python",
   "name": "python",
   "nbconvert_exporter": "python",
   "pygments_lexer": "ipython3",
   "version": "3.12.9"
  }
 },
 "nbformat": 4,
 "nbformat_minor": 5
}
