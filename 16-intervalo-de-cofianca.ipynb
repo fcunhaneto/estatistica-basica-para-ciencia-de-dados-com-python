{
 "cells": [
  {
   "metadata": {},
   "cell_type": "markdown",
   "source": "# Intervalo de Confiança",
   "id": "8d6dde2e517ec9fa"
  },
  {
   "metadata": {},
   "cell_type": "markdown",
   "source": "[Consultar probabilidade-teste-de-hipotese](https://github.com/fcunhaneto/probabilidade-teste-de-hipotese)",
   "id": "fb7a8bcee90b022e"
  },
  {
   "metadata": {},
   "cell_type": "code",
   "outputs": [],
   "execution_count": null,
   "source": "",
   "id": "53ccf38c412b26eb"
  }
 ],
 "metadata": {
  "kernelspec": {
   "display_name": "Python 3 (ipykernel)",
   "language": "python",
   "name": "python3"
  },
  "language_info": {
   "codemirror_mode": {
    "name": "ipython",
    "version": 3
   },
   "file_extension": ".py",
   "mimetype": "text/x-python",
   "name": "python",
   "nbconvert_exporter": "python",
   "pygments_lexer": "ipython3",
   "version": "3.12.9"
  }
 },
 "nbformat": 4,
 "nbformat_minor": 5
}
