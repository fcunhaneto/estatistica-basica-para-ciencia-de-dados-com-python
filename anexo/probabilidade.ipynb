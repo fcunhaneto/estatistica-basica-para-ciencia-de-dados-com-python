{
 "cells": [
  {
   "cell_type": "markdown",
   "id": "d26dd478b88c24a3",
   "metadata": {},
   "source": [
    "# Probabilidade"
   ]
  },
  {
   "cell_type": "markdown",
   "id": "b4bd7f2a602cf855",
   "metadata": {},
   "source": [
    "<font size=\"4\">\n",
    "A probabilidade é um ramo da estatística que estuda a chance de ocorrência de um evento.\n",
    "</font>"
   ]
  },
  {
   "cell_type": "markdown",
   "id": "b4b9d64d-fffc-49d3-9e14-188d16bafd8a",
   "metadata": {},
   "source": [
    "## Definições"
   ]
  },
  {
   "cell_type": "markdown",
   "id": "1d39f75fd44378d2",
   "metadata": {},
   "source": [
    "## <span style=\"color:blue\">Espaço Amostral</span>"
   ]
  },
  {
   "cell_type": "markdown",
   "id": "e95f26314c31885d",
   "metadata": {},
   "source": [
    "<font size=\"4\">\n",
    "Espaço amostral é o conjunto de todos os possíveis resultados de um experimento. Esse conjunto é frequentemente expresso pela letra grega maiúscula Ômega: $\\Omega$\n",
    "</font>"
   ]
  },
  {
   "cell_type": "markdown",
   "id": "c832fd9f-f586-482d-91b0-5df3e2ff239e",
   "metadata": {},
   "source": [
    "___"
   ]
  },
  {
   "cell_type": "markdown",
   "id": "1557701765a2afdc",
   "metadata": {},
   "source": [
    "## <span style=\"color:blue\">Eventos</span>"
   ]
  },
  {
   "cell_type": "markdown",
   "id": "66b396674ff53e70",
   "metadata": {},
   "source": [
    "<font size=\"4\">\n",
    "\n",
    "É qualquer subconjunto do espaço amostral $(\\Omega)$. É geralmente representado por uma letra maiúscula {A, B, C}.\n",
    "\n",
    "**Evento impossível**: $\\text{P(E) = 0}$\n",
    "\n",
    "**Evento certo**: $\\text{P(E) = 1}$\n",
    "\n",
    "**Evento complementar**:   $\\text{ P(A}' \\text{) = 1 - P(A)}$\n",
    "</font>"
   ]
  },
  {
   "cell_type": "markdown",
   "id": "74590a2d-252f-4835-aeed-a8d9d3b291ed",
   "metadata": {},
   "source": [
    "___"
   ]
  },
  {
   "cell_type": "markdown",
   "id": "d1c35edd-2baa-4ad4-aecb-08e938a45834",
   "metadata": {},
   "source": [
    "## <span style=\"color:blue\">Probabilidade e Teoria dos Conjuntos"
   ]
  },
  {
   "cell_type": "markdown",
   "id": "40c70e5531a76d10",
   "metadata": {},
   "source": "![Probabilidade e Conjuntos](../imagens/probabilidade-e-conjutos.png)"
  },
  {
   "cell_type": "markdown",
   "id": "5ae78596-f9c8-40ff-88b4-525b75c04964",
   "metadata": {},
   "source": [
    "___"
   ]
  },
  {
   "cell_type": "markdown",
   "id": "7f4a093e-fed2-48e8-a5cc-3d4f6675845a",
   "metadata": {},
   "source": [
    "## <span style=\"color: blue\">Função Probabilidade</span>"
   ]
  },
  {
   "cell_type": "markdown",
   "id": "47c265f2-0502-4bd1-84cf-6b2ddf3f9478",
   "metadata": {},
   "source": [
    "<font size=\"4\">\n",
    "\n",
    "<font size=\"3\">\n",
    "\n",
    "A probabilidade de um evento $\\text{A}$, pertencente à $\\Omega$, ocorrer é dada por:\n",
    "\n",
    "$\\text{P(A) =  }\\Large \\frac{\\text{número de casos favoráveis de A}}{\\text{número de casos possíveis }\\Omega}\\text{ = }\\frac{n(A)}{n(\\Omega)}$\n",
    "\n",
    "$0 \\leqslant \\text{P(A)} \\leqslant 1$\n",
    "\n",
    "</font>"
   ]
  },
  {
   "cell_type": "markdown",
   "id": "6c1d291e-3722-41fc-ba9d-f832ad94eed0",
   "metadata": {},
   "source": [
    "#### <span style=\"color: teal\">Definição Clássica Exemplo:</span>"
   ]
  },
  {
   "cell_type": "markdown",
   "id": "86984b17-d86c-4f8f-b915-d90bba69f236",
   "metadata": {},
   "source": [
    "Considere o lançamento de um dado honesto, em que: $\\Omega$ = {1, 2, 3, 4, 5, 6}.\n",
    "\n",
    "Todos os 6 resultados possíveis têm igual probabilidade, ou seja, cada um deles tem a mesma probabilidade igual a 1/6.\n",
    "\n",
    "$\\text{P(6) } \\cong \\frac{1}{6} \\cong 0,1666\\bar{6} \\cong 16,67\\%$"
   ]
  },
  {
   "cell_type": "markdown",
   "id": "5ec75253-4fb2-4e09-947e-06c630eab2a1",
   "metadata": {},
   "source": [
    "#### <span style=\"color: teal\">Definição Frequentista Exemplo:</span>"
   ]
  },
  {
   "cell_type": "markdown",
   "id": "0fec7e09-c937-4876-a6e1-63cb8ead5fb6",
   "metadata": {},
   "source": [
    "Você realiza um experimento jogando um dado honesto 100 vezes é obtém o número 6 quinze vezes:\n",
    "\n",
    "$\\text{P(6) } \\cong \\frac{15}{100} \\cong 0.15 \\cong 15\\%$"
   ]
  },
  {
   "cell_type": "markdown",
   "id": "e523bbc7-3f3a-4c0b-94b9-bd3f4635b27f",
   "metadata": {},
   "source": [
    "___"
   ]
  },
  {
   "cell_type": "markdown",
   "id": "1ab1a4e4-4c0c-47c6-bf7d-fe5492355e37",
   "metadata": {},
   "source": "## <span style=\"color: blue\">Probabilidade de B ou A acontecerem <br> (Regra da Adição de Probabilidades)</span>"
  },
  {
   "cell_type": "markdown",
   "id": "f421d76c-9b09-4021-b911-f150cd718ace",
   "metadata": {},
   "source": "$P(A \\cup B) = P(A) + P(B) - P(A \\cap B)$"
  },
  {
   "cell_type": "markdown",
   "id": "a041e6be74f1b448",
   "metadata": {},
   "source": [
    "___"
   ]
  },
  {
   "metadata": {},
   "cell_type": "markdown",
   "source": "## <span style=\"color: blue\">Probabilidade de B e A acontecerem</span>",
   "id": "b8497ed90e26ac8b"
  },
  {
   "metadata": {},
   "cell_type": "markdown",
   "source": "$P(A\\cap B) = P(A)\\text{.}P(B|A)$",
   "id": "3b4b959293272fd6"
  },
  {
   "metadata": {},
   "cell_type": "markdown",
   "source": "## <span style=\"color: blue\">Regra da Multiplicação</span>",
   "id": "87dae0cf736c2cf7"
  },
  {
   "metadata": {},
   "cell_type": "markdown",
   "source": [
    "<font size=\"4\">\n",
    "\n",
    "Se $P(A) \\text{ e } P(B) \\text{ forem indepentes}$\n",
    "\n",
    "$P(A\\cap B) = P(A)\\text{.}P(B)$\n",
    "\n",
    "</font>"
   ],
   "id": "4de80b00d2621828"
  },
  {
   "cell_type": "markdown",
   "id": "8e7d3c8201f44a99",
   "metadata": {},
   "source": "## <span style=\"color:blue\">Probabilidade Condicional</span>"
  },
  {
   "cell_type": "markdown",
   "id": "d2704bacc6029ff5",
   "metadata": {},
   "source": [
    "<font size=\"4\">\n",
    "\n",
    "É a probabilidade de um **evento $\\text{A}$ acontecer**, sabendo que outro evento **$\\text{B}$  já ocorreu**:\n",
    "\n",
    "$\\text{P(A|B) = }\\Large \\frac{P(A \\cap B)}{P(B)}$\n",
    "\n",
    "</font>"
   ]
  },
  {
   "cell_type": "markdown",
   "id": "102e97d03de95271",
   "metadata": {},
   "source": [
    "___"
   ]
  },
  {
   "cell_type": "markdown",
   "id": "a00ee652d6822ca9",
   "metadata": {},
   "source": [
    "# Probabilidade e Teoria da Contagem"
   ]
  },
  {
   "cell_type": "markdown",
   "id": "786250ad154866fd",
   "metadata": {},
   "source": [
    "<font size=\"4\">\n",
    "\n",
    "A Análise Combinatória tem fundamental importância para se contar o nº de casos favoráveis e o total de casos.\n",
    "\n",
    "Para problemas simples ou com poucos elementos, pode-se contr o número de resultados de forma direta, sem necessidade de recorrer às fórmulas matemáticas da análise combinatória. Para problemas menos simples, recorre-se às **combinações** e **arranjos** para determinar o número de casos."
   ]
  },
  {
   "cell_type": "markdown",
   "id": "77ca3e7151409727",
   "metadata": {},
   "source": [
    "## <span style=\"color:blue\">Combinação</span>"
   ]
  },
  {
   "cell_type": "markdown",
   "id": "ccdd2728ccaf1ef",
   "metadata": {},
   "source": [
    "<font size=\"4\">\n",
    "\n",
    "O Número de combinações de $\\text{r}$ elementos combinados $\\text{p a p } \\text{sendo p} \\lt \\text{r}$ e calculado por:\n",
    "\n",
    "$\\text{C}_{r,p} = \\Large \\frac{\\text{r!}}{\\text{p!(r - p)!}}$\n",
    "\n",
    "</font>"
   ]
  },
  {
   "cell_type": "markdown",
   "id": "c6a74150e6f28419",
   "metadata": {},
   "source": [
    "<font size=\"3\">\n",
    "\n",
    "_Exemplo:_\n",
    "\n",
    "Quantas comissões de três pessoas podem ser formadas com um grupo de dez pessoas?\n",
    "\n",
    "$\\text{C}_{10,3} = \\Large \\frac{\\text{10!}}{\\text{3!(10 - 3)!}} = \\frac{\\text{10x9x8x7!}}{\\text{3!7!}} = \\frac{\\text{10x9x8}}{\\text{3x2x1}} = \\frac{\\text{720}}{\\text{6}} = 120$\n",
    "\n",
    "<font>"
   ]
  },
  {
   "cell_type": "markdown",
   "id": "cca7de993018a2d5",
   "metadata": {},
   "source": [
    "## <span style=\"color:blue\">Arranjo</span>"
   ]
  },
  {
   "cell_type": "markdown",
   "id": "2a562d9de5eca840",
   "metadata": {},
   "source": [
    "<font size=\"4\">\n",
    "\n",
    "O número de arranjos de $\\text{r}$ elementos é calculado por:\n",
    "\n",
    "$\\text{A}_{r,p} = \\Large \\frac{\\text{r!}}{\\text{(r - p)!}}$\n",
    "\n",
    "</font>"
   ]
  },
  {
   "cell_type": "markdown",
   "id": "3d939f05744c1bb5",
   "metadata": {},
   "source": [
    "<font size=\"3\">\n",
    "\n",
    "_Exemplo:_\n",
    "\n",
    "Considerando um grupo de dez pessoas, quantas chapas diferentes podemos ter para uma eleição de presidente, tesoureiro e secretário?\n",
    "\n",
    "$\\text{A}_{10,3} = \\Large \\frac{\\text{10!}}{\\text{(10 - 3)!}} = \\frac{\\text{10!}}{\\text{7!}} = \\frac{\\text{10x9x8x7!}}{\\text{7!}} = \\text{10x9x8}  = 720$\n",
    "\n",
    "</font>"
   ]
  },
  {
   "cell_type": "markdown",
   "id": "421b3c34dff5b6b0",
   "metadata": {},
   "source": [
    "___"
   ]
  },
  {
   "cell_type": "code",
   "execution_count": null,
   "id": "a670390c3ad9c535",
   "metadata": {
    "ExecuteTime": {
     "end_time": "2025-03-10T21:50:52.803220Z",
     "start_time": "2025-03-10T21:50:52.801620Z"
    }
   },
   "outputs": [],
   "source": []
  },
  {
   "cell_type": "code",
   "execution_count": null,
   "id": "1b549988341fd643",
   "metadata": {
    "ExecuteTime": {
     "end_time": "2025-03-10T21:50:52.846992Z",
     "start_time": "2025-03-10T21:50:52.845550Z"
    }
   },
   "outputs": [],
   "source": []
  },
  {
   "cell_type": "code",
   "execution_count": null,
   "id": "c4428ccdfa805b3b",
   "metadata": {
    "ExecuteTime": {
     "end_time": "2025-03-10T21:50:52.890979Z",
     "start_time": "2025-03-10T21:50:52.889563Z"
    }
   },
   "outputs": [],
   "source": []
  },
  {
   "cell_type": "markdown",
   "id": "2d64dd1e-f037-4b87-a6b5-8ed5f71e96a2",
   "metadata": {},
   "source": [
    "___"
   ]
  },
  {
   "cell_type": "markdown",
   "id": "9ba7a1005f34e41e",
   "metadata": {},
   "source": [
    "# Definições de Probabilidade Conforme o Enfoque"
   ]
  },
  {
   "cell_type": "markdown",
   "id": "197b7710169e6c27",
   "metadata": {},
   "source": [
    "## <span style=\"color: teal\">Definição Clássica</span>"
   ]
  },
  {
   "cell_type": "markdown",
   "id": "ecc470ad493c63d",
   "metadata": {},
   "source": [
    "<font size=\"3\">\n",
    "Quando todos os resultados possíveis de um experimento são igualmente prováveis, a probabilidade de um evento A é dada por:\n",
    "</font>"
   ]
  },
  {
   "cell_type": "markdown",
   "id": "9d89590a2fa71746",
   "metadata": {},
   "source": [
    "$\\text{P(A) =  }\\Large \\frac{\\text{número de casos favoráveis}}{\\text{número de casos possíveis}}\\text{ = }\\frac{n(A)}{n(\\Omega)}$"
   ]
  },
  {
   "cell_type": "markdown",
   "id": "2609ec15f73ce71a",
   "metadata": {},
   "source": [
    "## <span style=\"color: teal\">Definição Frequentista</span>"
   ]
  },
  {
   "cell_type": "markdown",
   "id": "a9adf5847b92ba79",
   "metadata": {},
   "source": [
    "<font size=\"3\">\n",
    "A probabilidade de um evento é a frequência relativa de sua ocorrência em um grande número de repetições do experimento.\n",
    "</font>"
   ]
  },
  {
   "cell_type": "markdown",
   "id": "e0aab2e241494049",
   "metadata": {},
   "source": [
    "$\\text{P(A) } \\approx \\Large \\frac{\\text{número de vezes que A ocorre}}{\\text{número total de tentativas}} \\approx \\frac{n(A)}{n(\\Omega)}$"
   ]
  },
  {
   "cell_type": "markdown",
   "id": "68b6784f0d1e854c",
   "metadata": {},
   "source": [
    "## <span style=\"color: teal\">Definição Axiomática</span>"
   ]
  },
  {
   "cell_type": "markdown",
   "id": "c72a3fbb356f1bf3",
   "metadata": {},
   "source": [
    "<font size=\"3\">\n",
    "Baseada em três axiomas fundamentais:\n",
    "</font>"
   ]
  },
  {
   "cell_type": "markdown",
   "id": "d607e18a21369e0d",
   "metadata": {},
   "source": [
    "<font size=\"3\">\n",
    "1. $0 \\leqslant \\text{P(A)} \\leqslant 1$\n",
    "</font>"
   ]
  },
  {
   "cell_type": "markdown",
   "id": "775110143cf3b3e6",
   "metadata": {},
   "source": [
    "<font size=\"3\">\n",
    "2. $\\text{P}(\\Omega) = 1$\n",
    "</font>"
   ]
  },
  {
   "cell_type": "markdown",
   "id": "ca64da8e-84ba-4630-bf26-339f1c9beb9d",
   "metadata": {},
   "source": [
    "<font size=\"3\">\n",
    "3. Se eventos A, B são mutuamente exclusivos $P(A \\cup B) = P(A) + P(B)$\n",
    "</font>"
   ]
  },
  {
   "cell_type": "markdown",
   "id": "24d1a32021fb6dd5",
   "metadata": {},
   "source": [
    "<font size=\"4\">\n",
    "\n",
    "$\\large \\frac{P(A \\cap B)}{P(B)}$ é a probabilidade condicional de $\\text{A}$ dado $\\text{B}$;\n",
    "\n",
    "$P(A \\cap B)$ é a probabilidade de ambos os eventos $\\text{A}$ e $\\text{B}$ ocorrerem;\n",
    "\n",
    "$\\text{P(B)}$ é a probabilidade de $\\text{B}$ ocorrer.\n",
    "\n",
    "</font>"
   ]
  },
  {
   "cell_type": "markdown",
   "id": "47f8af98fb5f5338",
   "metadata": {},
   "source": []
  },
  {
   "cell_type": "markdown",
   "id": "a0161ccbdbe5f5df",
   "metadata": {},
   "source": []
  },
  {
   "cell_type": "code",
   "execution_count": null,
   "id": "a7085a7ebabc4332",
   "metadata": {
    "ExecuteTime": {
     "end_time": "2025-03-10T21:50:52.935080Z",
     "start_time": "2025-03-10T21:50:52.933608Z"
    }
   },
   "outputs": [],
   "source": []
  }
 ],
 "metadata": {
  "kernelspec": {
   "display_name": "Python 3 (ipykernel)",
   "language": "python",
   "name": "python3"
  },
  "language_info": {
   "codemirror_mode": {
    "name": "ipython",
    "version": 3
   },
   "file_extension": ".py",
   "mimetype": "text/x-python",
   "name": "python",
   "nbconvert_exporter": "python",
   "pygments_lexer": "ipython3",
   "version": "3.12.9"
  }
 },
 "nbformat": 4,
 "nbformat_minor": 5
}
