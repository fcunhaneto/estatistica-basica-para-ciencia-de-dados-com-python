{
 "cells": [
  {
   "cell_type": "markdown",
   "id": "de4f9318d7c4c793",
   "metadata": {},
   "source": [
    "# Média, Mediana e Moda"
   ]
  },
  {
   "cell_type": "markdown",
   "id": "18c8c910378cd601",
   "metadata": {},
   "source": [
    "## Média"
   ]
  },
  {
   "cell_type": "markdown",
   "id": "61deab01c5c5173f",
   "metadata": {},
   "source": [
    "Somatório de valores de determinados elementos divido pela quantidade de elementos somados."
   ]
  },
  {
   "cell_type": "code",
   "execution_count": 2,
   "id": "88fcc3b3-f38c-41c2-8348-32db25f4b5cd",
   "metadata": {},
   "outputs": [
    {
     "name": "stdout",
     "output_type": "stream",
     "text": [
      "Média =  24.63157894736842\n"
     ]
    }
   ],
   "source": [
    "valores = [27,49,6,7,11,36,18,19,35,6,26,4,21,36,13,42,43,45,24]\n",
    "soma = sum(valores)\n",
    "n = len(valores)\n",
    "media = soma / n\n",
    "print('Média = ', media)"
   ]
  },
  {
   "cell_type": "code",
   "execution_count": 3,
   "id": "e2a03ac0-cae8-4ecf-bf6c-d1f320f56048",
   "metadata": {},
   "outputs": [
    {
     "name": "stdout",
     "output_type": "stream",
     "text": [
      "Média =  24.63157894736842\n"
     ]
    }
   ],
   "source": [
    "import statistics as stats\n",
    "\n",
    "print('Média = ', stats.mean(valores))"
   ]
  },
  {
   "cell_type": "markdown",
   "id": "56196b3a4e8078d4",
   "metadata": {},
   "source": [
    "## Mediana"
   ]
  },
  {
   "cell_type": "markdown",
   "id": "7fcc0ee63c73a9d0",
   "metadata": {},
   "source": [
    "Dada uma sequência de valores ordenados, a mediana é o valor central dessa sequência. Caso haja dois valores centrais, a mediana é dada pela média aritmética deles."
   ]
  },
  {
   "cell_type": "code",
   "execution_count": 4,
   "id": "518ccbc3591a9d3",
   "metadata": {
    "ExecuteTime": {
     "end_time": "2025-03-08T11:15:52.121991Z",
     "start_time": "2025-03-08T11:15:52.120396Z"
    }
   },
   "outputs": [
    {
     "name": "stdout",
     "output_type": "stream",
     "text": [
      "Mediana =  24\n"
     ]
    }
   ],
   "source": [
    "print('Mediana = ', stats.median(valores))"
   ]
  },
  {
   "cell_type": "code",
   "execution_count": 16,
   "id": "79d873d9-3bad-4767-9b07-a2a24932856d",
   "metadata": {},
   "outputs": [
    {
     "name": "stdout",
     "output_type": "stream",
     "text": [
      "Mediana =  25.0\n"
     ]
    }
   ],
   "source": [
    "valores_alterado = [4,6,6,7,11,13,18,19,21,24,26,27,35,36,36,36,42,43,45,49]\n",
    "print('Mediana = ', stats.median(valores_alterado))"
   ]
  },
  {
   "cell_type": "markdown",
   "id": "0b54f4c8-2460-46c1-b47e-350151901cf4",
   "metadata": {},
   "source": [
    "## Moda"
   ]
  },
  {
   "cell_type": "markdown",
   "id": "7509a8f9-0c37-4292-abac-fe48efe3ee37",
   "metadata": {},
   "source": [
    "Dados um conjunto de valores, a moda é o número que mais se repete."
   ]
  },
  {
   "cell_type": "code",
   "execution_count": 17,
   "id": "37b58e8a-07b0-497a-ad9e-7ab2d02e22e9",
   "metadata": {},
   "outputs": [
    {
     "name": "stdout",
     "output_type": "stream",
     "text": [
      "Moda =  6\n"
     ]
    }
   ],
   "source": [
    "print('Moda = ', stats.mode(valores))"
   ]
  },
  {
   "cell_type": "code",
   "execution_count": 18,
   "id": "61327930-9c70-45f5-9108-01be1c6207b3",
   "metadata": {},
   "outputs": [
    {
     "name": "stdout",
     "output_type": "stream",
     "text": [
      "Moda =  36\n"
     ]
    }
   ],
   "source": [
    "print('Moda = ', stats.mode(valores_alterado))"
   ]
  },
  {
   "cell_type": "code",
   "execution_count": null,
   "id": "c4678079-9e4e-4723-8646-fc868e9e65af",
   "metadata": {},
   "outputs": [],
   "source": []
  }
 ],
 "metadata": {
  "kernelspec": {
   "display_name": "Python 3 (ipykernel)",
   "language": "python",
   "name": "python3"
  },
  "language_info": {
   "codemirror_mode": {
    "name": "ipython",
    "version": 3
   },
   "file_extension": ".py",
   "mimetype": "text/x-python",
   "name": "python",
   "nbconvert_exporter": "python",
   "pygments_lexer": "ipython3",
   "version": "3.12.9"
  }
 },
 "nbformat": 4,
 "nbformat_minor": 5
}
