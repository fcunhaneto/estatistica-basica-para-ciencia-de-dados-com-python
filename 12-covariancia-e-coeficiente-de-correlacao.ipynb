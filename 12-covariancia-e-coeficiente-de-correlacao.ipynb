{
 "cells": [
  {
   "cell_type": "markdown",
   "id": "41383e4350009094",
   "metadata": {},
   "source": [
    "# Covariância"
   ]
  },
  {
   "cell_type": "markdown",
   "id": "f1070fcca1691742",
   "metadata": {},
   "source": [
    "A covariância é uma medida que expressa o grau de interdependência linear entre duas variáveis.\n",
    "\n",
    "A covariância quantifica o quanto uma variável se altera em resposta às mudanças em outra variável.\n",
    "\n",
    "No caso da covariância positiva, quando os valores de uma variável aumentam, os valores da outra também tendem a aumentar.\n",
    "\n",
    "Na covariância negativa, o aumento nos valores de uma variável implica o decréscimo nos valores da outra variável."
   ]
  },
  {
   "cell_type": "markdown",
   "id": "43ea43a1db56e690",
   "metadata": {},
   "source": [
    "## Covariância da População"
   ]
  },
  {
   "cell_type": "markdown",
   "id": "29b32d3de34cfe46",
   "metadata": {},
   "source": [
    "<font size=\"5\">\n",
    "$\\text{Cov(x, y)} = \\frac{\\sum_{i=1}^{N} (x_{i} - \\mu_{x}) (y_{i} - \\mu_{y})}{N}$"
   ]
  },
  {
   "cell_type": "markdown",
   "id": "c88cf4ffc8bc087c",
   "metadata": {},
   "source": [
    "## Covariância da Amosta\n"
   ]
  },
  {
   "cell_type": "markdown",
   "id": "7a5dd0fa4c2e70cf",
   "metadata": {},
   "source": [
    "<font size=\"5\">\n",
    "$\\text{Cov(x, y)} = \\frac{\\sum_{i=1}^{n} (x_{i} - \\bar{x}) (y_{i} - \\bar{y})}{(n - 1)}$\n",
    "\n",
    "___"
   ]
  },
  {
   "cell_type": "markdown",
   "id": "b7a24a5b3ff5b250",
   "metadata": {},
   "source": [
    "# Coeficiente de Correlação"
   ]
  },
  {
   "cell_type": "markdown",
   "id": "17487b879a0ede97",
   "metadata": {},
   "source": [
    "<font size=\"5\">\n",
    "$\\text{CC} = \\frac{\\text{Cov(x, y)}}{S_{x}S_{y}}$\n",
    "\n",
    "___"
   ]
  },
  {
   "cell_type": "markdown",
   "id": "2a568714e881352",
   "metadata": {},
   "source": [
    "## Calculo Covariância Altura e Peso"
   ]
  },
  {
   "cell_type": "code",
   "execution_count": 3,
   "id": "b00ca023b2272f7",
   "metadata": {
    "ExecuteTime": {
     "end_time": "2025-03-09T14:39:39.090984Z",
     "start_time": "2025-03-09T14:39:38.909951Z"
    }
   },
   "outputs": [],
   "source": [
    "import pandas as pd\n",
    "import matplotlib.pyplot as plt\n",
    "import statistics as st"
   ]
  },
  {
   "cell_type": "code",
   "execution_count": 4,
   "id": "fa642fd319a4179",
   "metadata": {
    "ExecuteTime": {
     "end_time": "2025-03-09T14:15:22.489647Z",
     "start_time": "2025-03-09T14:15:22.480844Z"
    }
   },
   "outputs": [
    {
     "data": {
      "text/html": [
       "<div>\n",
       "<style scoped>\n",
       "    .dataframe tbody tr th:only-of-type {\n",
       "        vertical-align: middle;\n",
       "    }\n",
       "\n",
       "    .dataframe tbody tr th {\n",
       "        vertical-align: top;\n",
       "    }\n",
       "\n",
       "    .dataframe thead th {\n",
       "        text-align: right;\n",
       "    }\n",
       "</style>\n",
       "<table border=\"1\" class=\"dataframe\">\n",
       "  <thead>\n",
       "    <tr style=\"text-align: right;\">\n",
       "      <th></th>\n",
       "      <th>Altura(m)</th>\n",
       "      <th>Peso(kg)</th>\n",
       "    </tr>\n",
       "  </thead>\n",
       "  <tbody>\n",
       "    <tr>\n",
       "      <th>count</th>\n",
       "      <td>10000.000000</td>\n",
       "      <td>10000.000000</td>\n",
       "    </tr>\n",
       "    <tr>\n",
       "      <th>mean</th>\n",
       "      <td>1.685691</td>\n",
       "      <td>73.228260</td>\n",
       "    </tr>\n",
       "    <tr>\n",
       "      <th>std</th>\n",
       "      <td>0.097816</td>\n",
       "      <td>14.563851</td>\n",
       "    </tr>\n",
       "    <tr>\n",
       "      <th>min</th>\n",
       "      <td>1.380000</td>\n",
       "      <td>29.300000</td>\n",
       "    </tr>\n",
       "    <tr>\n",
       "      <th>25%</th>\n",
       "      <td>1.610000</td>\n",
       "      <td>61.600000</td>\n",
       "    </tr>\n",
       "    <tr>\n",
       "      <th>50%</th>\n",
       "      <td>1.680000</td>\n",
       "      <td>73.100000</td>\n",
       "    </tr>\n",
       "    <tr>\n",
       "      <th>75%</th>\n",
       "      <td>1.760000</td>\n",
       "      <td>84.900000</td>\n",
       "    </tr>\n",
       "    <tr>\n",
       "      <th>max</th>\n",
       "      <td>2.010000</td>\n",
       "      <td>122.500000</td>\n",
       "    </tr>\n",
       "  </tbody>\n",
       "</table>\n",
       "</div>"
      ],
      "text/plain": [
       "          Altura(m)      Peso(kg)\n",
       "count  10000.000000  10000.000000\n",
       "mean       1.685691     73.228260\n",
       "std        0.097816     14.563851\n",
       "min        1.380000     29.300000\n",
       "25%        1.610000     61.600000\n",
       "50%        1.680000     73.100000\n",
       "75%        1.760000     84.900000\n",
       "max        2.010000    122.500000"
      ]
     },
     "execution_count": 4,
     "metadata": {},
     "output_type": "execute_result"
    }
   ],
   "source": [
    "df = pd.read_csv('data/altura-peso-br.csv')\n",
    "df.describe()"
   ]
  },
  {
   "cell_type": "code",
   "execution_count": 5,
   "id": "66eae81f7b20f9fc",
   "metadata": {
    "ExecuteTime": {
     "end_time": "2025-03-09T14:12:19.092829Z",
     "start_time": "2025-03-09T14:12:19.088826Z"
    }
   },
   "outputs": [
    {
     "data": {
      "text/plain": [
       "0       1.88\n",
       "1       1.75\n",
       "2       1.88\n",
       "3       1.82\n",
       "4       1.77\n",
       "        ... \n",
       "4995    1.75\n",
       "4996    1.75\n",
       "4997    1.70\n",
       "4998    1.82\n",
       "4999    1.79\n",
       "Name: Altura(m), Length: 5000, dtype: float64"
      ]
     },
     "execution_count": 5,
     "metadata": {},
     "output_type": "execute_result"
    }
   ],
   "source": [
    "x = df.loc[df['Sexo'] == 'M']['Altura(m)']\n",
    "x"
   ]
  },
  {
   "cell_type": "code",
   "execution_count": 6,
   "id": "77fc53d08185b933",
   "metadata": {
    "ExecuteTime": {
     "end_time": "2025-03-09T14:12:20.139220Z",
     "start_time": "2025-03-09T14:12:20.136499Z"
    }
   },
   "outputs": [
    {
     "data": {
      "text/plain": [
       "array([1.88, 1.75, 1.88, ..., 1.7 , 1.82, 1.79], shape=(5000,))"
      ]
     },
     "execution_count": 6,
     "metadata": {},
     "output_type": "execute_result"
    }
   ],
   "source": [
    "x_arr = x.values\n",
    "x_arr"
   ]
  },
  {
   "cell_type": "code",
   "execution_count": 7,
   "id": "38a4b3a0e828e948",
   "metadata": {
    "ExecuteTime": {
     "end_time": "2025-03-09T14:12:21.125866Z",
     "start_time": "2025-03-09T14:12:21.121161Z"
    }
   },
   "outputs": [
    {
     "data": {
      "text/plain": [
       "0    109.7\n",
       "1     73.6\n",
       "2     96.5\n",
       "3     99.8\n",
       "4     93.6\n",
       "Name: Peso(kg), dtype: float64"
      ]
     },
     "execution_count": 7,
     "metadata": {},
     "output_type": "execute_result"
    }
   ],
   "source": [
    "y = df.loc[df['Sexo'] == 'M']['Peso(kg)']\n",
    "y.head()"
   ]
  },
  {
   "cell_type": "code",
   "execution_count": 8,
   "id": "9c459430aefc6a28",
   "metadata": {
    "ExecuteTime": {
     "end_time": "2025-03-09T14:12:22.380036Z",
     "start_time": "2025-03-09T14:12:22.377182Z"
    }
   },
   "outputs": [
    {
     "data": {
      "text/plain": [
       "array([109.7,  73.6,  96.5, ...,  90.4,  84.3,  90.2], shape=(5000,))"
      ]
     },
     "execution_count": 8,
     "metadata": {},
     "output_type": "execute_result"
    }
   ],
   "source": [
    "y_arr = y.values\n",
    "y_arr"
   ]
  },
  {
   "cell_type": "code",
   "execution_count": 9,
   "id": "2f377b59619d365d",
   "metadata": {
    "ExecuteTime": {
     "end_time": "2025-03-09T14:12:24.124836Z",
     "start_time": "2025-03-09T14:12:24.120102Z"
    }
   },
   "outputs": [
    {
     "name": "stdout",
     "output_type": "stream",
     "text": [
      "1.75327 84.8308\n"
     ]
    }
   ],
   "source": [
    "medx = st.mean(x_arr)\n",
    "medy = st.mean(y_arr)\n",
    "print(medx, medy)"
   ]
  },
  {
   "cell_type": "code",
   "execution_count": 10,
   "id": "2b117a4bb9e53df1",
   "metadata": {
    "ExecuteTime": {
     "end_time": "2025-03-09T14:12:41.646137Z",
     "start_time": "2025-03-09T14:12:41.643397Z"
    }
   },
   "outputs": [
    {
     "data": {
      "text/plain": [
       "array([ 0.12673, -0.00327,  0.12673, ..., -0.05327,  0.06673,  0.03673],\n",
       "      shape=(5000,))"
      ]
     },
     "execution_count": 10,
     "metadata": {},
     "output_type": "execute_result"
    }
   ],
   "source": [
    "xs = x_arr - medx\n",
    "xs"
   ]
  },
  {
   "cell_type": "code",
   "execution_count": 11,
   "id": "58b105f900f7ccf1",
   "metadata": {
    "ExecuteTime": {
     "end_time": "2025-03-09T14:12:54.637632Z",
     "start_time": "2025-03-09T14:12:54.634830Z"
    }
   },
   "outputs": [
    {
     "data": {
      "text/plain": [
       "array([ 24.8692, -11.2308,  11.6692, ...,   5.5692,  -0.5308,   5.3692],\n",
       "      shape=(5000,))"
      ]
     },
     "execution_count": 11,
     "metadata": {},
     "output_type": "execute_result"
    }
   ],
   "source": [
    "ys = y_arr - medy\n",
    "ys"
   ]
  },
  {
   "cell_type": "code",
   "execution_count": 12,
   "id": "bbf7568565ab41d4",
   "metadata": {
    "ExecuteTime": {
     "end_time": "2025-03-09T14:14:27.058300Z",
     "start_time": "2025-03-09T14:14:27.055424Z"
    }
   },
   "outputs": [
    {
     "data": {
      "text/plain": [
       "array([ 3.15167372,  0.03672472,  1.47883772, ..., -0.29667128,\n",
       "       -0.03542028,  0.19721072], shape=(5000,))"
      ]
     },
     "execution_count": 12,
     "metadata": {},
     "output_type": "execute_result"
    }
   ],
   "source": [
    "xy = xs * ys\n",
    "xy"
   ]
  },
  {
   "cell_type": "code",
   "execution_count": 13,
   "id": "8c31ff22c533b599",
   "metadata": {
    "ExecuteTime": {
     "end_time": "2025-03-09T14:14:35.528469Z",
     "start_time": "2025-03-09T14:14:35.526196Z"
    }
   },
   "outputs": [
    {
     "data": {
      "text/plain": [
       "np.float64(2818.8004200000005)"
      ]
     },
     "execution_count": 13,
     "metadata": {},
     "output_type": "execute_result"
    }
   ],
   "source": [
    "cov1 = xy.sum()\n",
    "cov1"
   ]
  },
  {
   "cell_type": "code",
   "execution_count": 14,
   "id": "293325703eabb3fc",
   "metadata": {
    "ExecuteTime": {
     "end_time": "2025-03-09T14:15:57.540751Z",
     "start_time": "2025-03-09T14:15:57.538268Z"
    }
   },
   "outputs": [
    {
     "data": {
      "text/plain": [
       "4999"
      ]
     },
     "execution_count": 14,
     "metadata": {},
     "output_type": "execute_result"
    }
   ],
   "source": [
    "cov2 = len(xs) - 1\n",
    "cov2"
   ]
  },
  {
   "cell_type": "code",
   "execution_count": 15,
   "id": "949008812e2cec9e",
   "metadata": {
    "ExecuteTime": {
     "end_time": "2025-03-09T14:15:58.804598Z",
     "start_time": "2025-03-09T14:15:58.802189Z"
    }
   },
   "outputs": [
    {
     "data": {
      "text/plain": [
       "np.float64(0.5638728585717144)"
      ]
     },
     "execution_count": 15,
     "metadata": {},
     "output_type": "execute_result"
    }
   ],
   "source": [
    "covcalc = cov1 / cov2\n",
    "covcalc"
   ]
  },
  {
   "cell_type": "code",
   "execution_count": 16,
   "id": "b0942ae4303e9769",
   "metadata": {
    "ExecuteTime": {
     "end_time": "2025-03-09T14:15:42.877262Z",
     "start_time": "2025-03-09T14:15:42.874261Z"
    }
   },
   "outputs": [
    {
     "data": {
      "text/plain": [
       "0.5638728585717145"
      ]
     },
     "execution_count": 16,
     "metadata": {},
     "output_type": "execute_result"
    }
   ],
   "source": [
    "covfun = st.covariance(x, y)\n",
    "covfun"
   ]
  },
  {
   "cell_type": "code",
   "execution_count": 17,
   "id": "4557aab2777d7edb",
   "metadata": {
    "ExecuteTime": {
     "end_time": "2025-03-09T14:38:39.690748Z",
     "start_time": "2025-03-09T14:38:39.684512Z"
    }
   },
   "outputs": [
    {
     "data": {
      "text/plain": [
       "0.8624578344354656"
      ]
     },
     "execution_count": 17,
     "metadata": {},
     "output_type": "execute_result"
    }
   ],
   "source": [
    "corr = covfun / (st.stdev(x) * st.stdev(y))\n",
    "corr"
   ]
  },
  {
   "cell_type": "code",
   "execution_count": 18,
   "id": "f28510a77f7a32e8",
   "metadata": {
    "ExecuteTime": {
     "end_time": "2025-03-09T14:38:47.810029Z",
     "start_time": "2025-03-09T14:38:47.805090Z"
    }
   },
   "outputs": [
    {
     "data": {
      "text/html": [
       "<div>\n",
       "<style scoped>\n",
       "    .dataframe tbody tr th:only-of-type {\n",
       "        vertical-align: middle;\n",
       "    }\n",
       "\n",
       "    .dataframe tbody tr th {\n",
       "        vertical-align: top;\n",
       "    }\n",
       "\n",
       "    .dataframe thead th {\n",
       "        text-align: right;\n",
       "    }\n",
       "</style>\n",
       "<table border=\"1\" class=\"dataframe\">\n",
       "  <thead>\n",
       "    <tr style=\"text-align: right;\">\n",
       "      <th></th>\n",
       "      <th>altura</th>\n",
       "      <th>peso</th>\n",
       "    </tr>\n",
       "  </thead>\n",
       "  <tbody>\n",
       "    <tr>\n",
       "      <th>0</th>\n",
       "      <td>1.88</td>\n",
       "      <td>109.7</td>\n",
       "    </tr>\n",
       "    <tr>\n",
       "      <th>1</th>\n",
       "      <td>1.75</td>\n",
       "      <td>73.6</td>\n",
       "    </tr>\n",
       "    <tr>\n",
       "      <th>2</th>\n",
       "      <td>1.88</td>\n",
       "      <td>96.5</td>\n",
       "    </tr>\n",
       "    <tr>\n",
       "      <th>3</th>\n",
       "      <td>1.82</td>\n",
       "      <td>99.8</td>\n",
       "    </tr>\n",
       "    <tr>\n",
       "      <th>4</th>\n",
       "      <td>1.77</td>\n",
       "      <td>93.6</td>\n",
       "    </tr>\n",
       "    <tr>\n",
       "      <th>...</th>\n",
       "      <td>...</td>\n",
       "      <td>...</td>\n",
       "    </tr>\n",
       "    <tr>\n",
       "      <th>4995</th>\n",
       "      <td>1.75</td>\n",
       "      <td>80.3</td>\n",
       "    </tr>\n",
       "    <tr>\n",
       "      <th>4996</th>\n",
       "      <td>1.75</td>\n",
       "      <td>72.3</td>\n",
       "    </tr>\n",
       "    <tr>\n",
       "      <th>4997</th>\n",
       "      <td>1.70</td>\n",
       "      <td>90.4</td>\n",
       "    </tr>\n",
       "    <tr>\n",
       "      <th>4998</th>\n",
       "      <td>1.82</td>\n",
       "      <td>84.3</td>\n",
       "    </tr>\n",
       "    <tr>\n",
       "      <th>4999</th>\n",
       "      <td>1.79</td>\n",
       "      <td>90.2</td>\n",
       "    </tr>\n",
       "  </tbody>\n",
       "</table>\n",
       "<p>5000 rows × 2 columns</p>\n",
       "</div>"
      ],
      "text/plain": [
       "      altura   peso\n",
       "0       1.88  109.7\n",
       "1       1.75   73.6\n",
       "2       1.88   96.5\n",
       "3       1.82   99.8\n",
       "4       1.77   93.6\n",
       "...      ...    ...\n",
       "4995    1.75   80.3\n",
       "4996    1.75   72.3\n",
       "4997    1.70   90.4\n",
       "4998    1.82   84.3\n",
       "4999    1.79   90.2\n",
       "\n",
       "[5000 rows x 2 columns]"
      ]
     },
     "execution_count": 18,
     "metadata": {},
     "output_type": "execute_result"
    }
   ],
   "source": [
    "ap = pd.DataFrame({'altura': x, 'peso': y})\n",
    "ap"
   ]
  },
  {
   "cell_type": "code",
   "execution_count": 19,
   "id": "e6bc7131860c70ee",
   "metadata": {
    "ExecuteTime": {
     "end_time": "2025-03-09T14:38:50.064619Z",
     "start_time": "2025-03-09T14:38:50.060560Z"
    }
   },
   "outputs": [
    {
     "data": {
      "text/html": [
       "<div>\n",
       "<style scoped>\n",
       "    .dataframe tbody tr th:only-of-type {\n",
       "        vertical-align: middle;\n",
       "    }\n",
       "\n",
       "    .dataframe tbody tr th {\n",
       "        vertical-align: top;\n",
       "    }\n",
       "\n",
       "    .dataframe thead th {\n",
       "        text-align: right;\n",
       "    }\n",
       "</style>\n",
       "<table border=\"1\" class=\"dataframe\">\n",
       "  <thead>\n",
       "    <tr style=\"text-align: right;\">\n",
       "      <th></th>\n",
       "      <th>altura</th>\n",
       "      <th>peso</th>\n",
       "    </tr>\n",
       "  </thead>\n",
       "  <tbody>\n",
       "    <tr>\n",
       "      <th>altura</th>\n",
       "      <td>1.000000</td>\n",
       "      <td>0.862458</td>\n",
       "    </tr>\n",
       "    <tr>\n",
       "      <th>peso</th>\n",
       "      <td>0.862458</td>\n",
       "      <td>1.000000</td>\n",
       "    </tr>\n",
       "  </tbody>\n",
       "</table>\n",
       "</div>"
      ],
      "text/plain": [
       "          altura      peso\n",
       "altura  1.000000  0.862458\n",
       "peso    0.862458  1.000000"
      ]
     },
     "execution_count": 19,
     "metadata": {},
     "output_type": "execute_result"
    }
   ],
   "source": [
    "ap.corr()"
   ]
  },
  {
   "cell_type": "code",
   "execution_count": 20,
   "id": "8410a95e22eb3168",
   "metadata": {
    "ExecuteTime": {
     "end_time": "2025-03-09T14:40:02.812191Z",
     "start_time": "2025-03-09T14:40:02.729656Z"
    }
   },
   "outputs": [
    {
     "data": {
      "text/plain": [
       "<function matplotlib.pyplot.show(close=None, block=None)>"
      ]
     },
     "execution_count": 20,
     "metadata": {},
     "output_type": "execute_result"
    },
    {
     "data": {
      "image/png": "[encoded data removed]",
      "text/plain": [
       "<Figure size 640x480 with 1 Axes>"
      ]
     },
     "metadata": {},
     "output_type": "display_data"
    }
   ],
   "source": [
    "plt.scatter(x, y)\n",
    "plt.show"
   ]
  },
  {
   "cell_type": "code",
   "execution_count": 28,
   "id": "ed3755c69ea826c0",
   "metadata": {},
   "outputs": [
    {
     "data": {
      "text/plain": [
       "<Axes: xlabel='altura', ylabel='peso'>"
      ]
     },
     "execution_count": 28,
     "metadata": {},
     "output_type": "execute_result"
    },
    {
     "data": {
      "image/png": "[encoded data removed]",
      "text/plain": [
       "<Figure size 640x480 with 1 Axes>"
      ]
     },
     "metadata": {},
     "output_type": "display_data"
    }
   ],
   "source": [
    "import seaborn as sns\n",
    "\n",
    "sns.regplot(data=ap, x='altura', y='peso', line_kws=dict(color=\"r\"))"
   ]
  },
  {
   "cell_type": "code",
   "execution_count": 29,
   "id": "caba39ab-99e1-44ca-9a4c-3c735f2f02a6",
   "metadata": {},
   "outputs": [
    {
     "data": {
      "text/plain": [
       "<Axes: xlabel='altura', ylabel='peso'>"
      ]
     },
     "execution_count": 29,
     "metadata": {},
     "output_type": "execute_result"
    },
    {
     "data": {
      "image/png": "[encoded data removed]",
      "text/plain": [
       "<Figure size 640x480 with 1 Axes>"
      ]
     },
     "metadata": {},
     "output_type": "display_data"
    }
   ],
   "source": [
    "sns.regplot(data=ap.iloc[2500:3000], x='altura', y='peso', line_kws=dict(color=\"r\"))"
   ]
  },
  {
   "cell_type": "code",
   "execution_count": null,
   "id": "08b4080a-83dd-432e-8892-b3fd362600a4",
   "metadata": {},
   "outputs": [],
   "source": []
  }
 ],
 "metadata": {
  "kernelspec": {
   "display_name": "Python 3 (ipykernel)",
   "language": "python",
   "name": "python3"
  },
  "language_info": {
   "codemirror_mode": {
    "name": "ipython",
    "version": 3
   },
   "file_extension": ".py",
   "mimetype": "text/x-python",
   "name": "python",
   "nbconvert_exporter": "python",
   "pygments_lexer": "ipython3",
   "version": "3.12.9"
  }
 },
 "nbformat": 4,
 "nbformat_minor": 5
}
