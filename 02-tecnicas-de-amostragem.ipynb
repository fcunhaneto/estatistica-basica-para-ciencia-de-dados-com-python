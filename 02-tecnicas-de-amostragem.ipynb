{
 "cells": [
  {
   "cell_type": "markdown",
   "id": "f2223a56d6a5bf1e",
   "metadata": {},
   "source": [
    "# Tecnicas de Amostragem"
   ]
  },
  {
   "cell_type": "markdown",
   "id": "d2f79df98e912991",
   "metadata": {},
   "source": [
    "## Regra Número 1"
   ]
  },
  {
   "cell_type": "markdown",
   "id": "fa8338b8-bb21-49fb-bd29-bd73169778a0",
   "metadata": {},
   "source": [
    "**Amostra precisa ser representativa da população**\n",
    "\n",
    "A amostra **precisa ser aleatória** para que todas as opções tenham a mesma probabilidade de acontecer."
   ]
  },
  {
   "cell_type": "markdown",
   "id": "bcbb8b89-7be1-46f1-b2cb-5f5c309f2f20",
   "metadata": {},
   "source": [
    "## Métodos de Amostragem"
   ]
  },
  {
   "cell_type": "markdown",
   "id": "801e32f6-b981-4fe0-8642-e46ad2c8370b",
   "metadata": {},
   "source": [
    "- **Simples**\n",
    "\n",
    "- **Estratificada**\n",
    "\n",
    "- **Por Conglomerado**\n",
    "\n",
    "- **Sistemática**\n",
    "\n",
    "- Por Conveniência (não aleatória)"
   ]
  },
  {
   "cell_type": "markdown",
   "id": "624852f6-d4a6-48ab-a39c-05ef9af678fd",
   "metadata": {},
   "source": [
    "### Amostra Simples"
   ]
  },
  {
   "cell_type": "markdown",
   "id": "b4cb2072-0043-413e-b59a-14a3358114a3",
   "metadata": {},
   "source": [
    "Todos os elementos da população têm a mesma probabilidade de ser selecionados.\n",
    "\n",
    "- Exemplo: Determinar um registro para a população. Sorteio de números de registros aleatórios para formar uma amostra."
   ]
  },
  {
   "cell_type": "markdown",
   "id": "24e14a00-f218-4857-af6b-7c545e943700",
   "metadata": {},
   "source": [
    "### Amostra Estratificada"
   ]
  },
  {
   "cell_type": "markdown",
   "id": "488c82b2-95a4-49a0-bb25-492875352f8d",
   "metadata": {},
   "source": [
    "A população é dividida em subgrupos (estratos) que têm características comuns. A amostra é retirada de cada estrato, proporcionalmente à sua participação na população.\n",
    "\n",
    "- Exemplo: Dividir uma população por faixa etária ou renda e selecionar amostras de cada faixa."
   ]
  },
  {
   "cell_type": "markdown",
   "id": "104cfcb6-f450-43bf-8b87-c735a2dfeaa0",
   "metadata": {},
   "source": [
    "#### Amostragem estratificada proporcional"
   ]
  },
  {
   "cell_type": "markdown",
   "id": "69484189-1233-4627-bb15-f07f673e7ee4",
   "metadata": {},
   "source": [
    "Exemplo: será realizada uma pesquisa com 200 estudantes de uma população de 10 mil. Suponhamos que o grupo de alunos dessa instituição seja composto de 30% de calouros, 30% de estudantes do segundo ano, 20% do terceiro e 20% do último. Seria possível estratificar por classes, antes da seleção aleatória, para garantir que a amostra fosse exata em termos de representação dessas classes. Nesse caso, na técnica de amostragem estratificada proporcional, selecionaríamos, de modo aleatório, 60 estudantes dos 3 mil calouros; 60 dos 3 mil do segundo ano; 40 dos 2 mil do terceiro; e 40 dos 2 mil do último. No final, teríamos uma amostra total de 200 estudantes. Já na amostragem estratificada simples, que não é a mais apropriada neste contexto, seriam selecionados 50 indivíduos de cada estrato."
   ]
  },
  {
   "cell_type": "markdown",
   "id": "7ea800e1-0b0e-4f35-8265-c3d84ba651bd",
   "metadata": {},
   "source": [
    "### Amostra Por Conglomerado"
   ]
  },
  {
   "cell_type": "markdown",
   "id": "bcf9a72a-8e38-4ef0-970a-b239b30be47c",
   "metadata": {},
   "source": [
    "A população é dividida em grupos (conglomerados), e então alguns desses grupos são selecionados aleatoriamente.\n",
    "\n",
    "- Exemplo: Selecionar escolas e, em seguida, amostrar todos os alunos de algumas dessas escolas."
   ]
  },
  {
   "cell_type": "markdown",
   "id": "c9f63430-7150-4c36-b149-091a7c9fc5fe",
   "metadata": {},
   "source": [
    "### Amostra Sistemática"
   ]
  },
  {
   "cell_type": "markdown",
   "id": "fc0937e4-ebe0-479a-98d7-b650aa1f08c6",
   "metadata": {},
   "source": [
    "A amostra é selecionada a partir de uma lista ordenada, com um intervalo fixo entre as unidades amostradas. Selecionar o primeiro indivíduo de forma aleatória e escolhesse o enésimo após o último selecionado.\n",
    "\n",
    "- Exemplo: Se a população do estudo contém 2000 estudantes do ensino fundamental e o pesquisador quer uma amostra de 100 estudantes. Os estudantes poderiam ser colocados em uma lista e cada 20º estudante seria selecionado para inclusão na amostra. A fim de evitar o viés humano neste método, o pesquisador deve selecionar o primeiro elemento aleatoriamente."
   ]
  },
  {
   "cell_type": "markdown",
   "id": "6b2479af-fe06-41f7-9056-08e88c2b1bf7",
   "metadata": {},
   "source": [
    "### Amostra Por Conveniência (não aleatória)"
   ]
  },
  {
   "cell_type": "markdown",
   "id": "d41e9ba1-7b53-4769-8e53-1077bc035aca",
   "metadata": {},
   "source": [
    "A amostra é formada com base na facilidade de acesso ou disponibilidade dos elementos.\n",
    "\n",
    "- Exemplo: Ficar em um shopping ou mercearia e pedir às pessoas que respondam a perguntas.\n",
    "\n",
    "Mesmo sem ser aleatória, é muito usado pela dificuldade de coletar dados."
   ]
  },
  {
   "cell_type": "code",
   "execution_count": null,
   "id": "802e74a4-f71e-4baf-82f6-4111d1dadbf5",
   "metadata": {},
   "outputs": [],
   "source": []
  }
 ],
 "metadata": {
  "kernelspec": {
   "display_name": "Python 3 (ipykernel)",
   "language": "python",
   "name": "python3"
  },
  "language_info": {
   "codemirror_mode": {
    "name": "ipython",
    "version": 3
   },
   "file_extension": ".py",
   "mimetype": "text/x-python",
   "name": "python",
   "nbconvert_exporter": "python",
   "pygments_lexer": "ipython3",
   "version": "3.12.9"
  }
 },
 "nbformat": 4,
 "nbformat_minor": 5
}
