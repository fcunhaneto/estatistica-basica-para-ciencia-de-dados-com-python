{
 "cells": [
  {
   "cell_type": "markdown",
   "id": "f8832785-b8b2-4ed3-a5b3-ed13b799f790",
   "metadata": {},
   "source": [
    "# Medidas de Dispersão"
   ]
  },
  {
   "cell_type": "markdown",
   "id": "56d8e842-3d6f-40ac-adec-1d1714137ff1",
   "metadata": {},
   "source": [
    "![Distribuição Normal](imagens/distribucao-normal.png)"
   ]
  },
  {
   "cell_type": "markdown",
   "id": "7eeb6a314c11df9d",
   "metadata": {},
   "source": [
    "![Distribuição Assimétrica Negativa](imagens/distribucao-assimetica-negativa.png)"
   ]
  },
  {
   "cell_type": "markdown",
   "id": "6ebd223857a6f31c",
   "metadata": {},
   "source": [
    "**Nesse caso, a média é o menor valor por ser afetada pelos valores extremos negativos, em seguida temos a mediana e a moda representando o maior valor (na parte mais alta da distribuição).**"
   ]
  },
  {
   "cell_type": "markdown",
   "id": "b29c48189e7f0b5a",
   "metadata": {},
   "source": [
    "![Distribuição Assimétrica Positiva](imagens/distribucao-assimetica-positiva.png)"
   ]
  },
  {
   "cell_type": "markdown",
   "id": "7b5080723eac0bf6",
   "metadata": {},
   "source": [
    "**Nesse caso, a média é o maior valor por ser afetada pelos valores extremos positivos.**"
   ]
  },
  {
   "cell_type": "code",
   "id": "38da2cf93a8a4e46",
   "metadata": {
    "ExecuteTime": {
     "end_time": "2025-03-08T20:46:18.734929Z",
     "start_time": "2025-03-08T20:46:18.386506Z"
    }
   },
   "source": [
    "import pandas as pd\n",
    "import statistics as stat\n",
    "import create_frequency_hist as cfh"
   ],
   "outputs": [],
   "execution_count": 1
  },
  {
   "cell_type": "code",
   "id": "77c4e79d10068736",
   "metadata": {
    "ExecuteTime": {
     "end_time": "2025-03-08T20:51:28.133375Z",
     "start_time": "2025-03-08T20:51:28.125746Z"
    }
   },
   "source": [
    "df = pd.read_csv('data/altura-peso-br.csv')\n",
    "df.head()"
   ],
   "outputs": [
    {
     "data": {
      "text/plain": [
       "  Sexo  Altura(m)  Peso(kg)\n",
       "0    M       1.88     109.7\n",
       "1    M       1.75      73.6\n",
       "2    M       1.88      96.5\n",
       "3    M       1.82      99.8\n",
       "4    M       1.77      93.6"
      ],
      "text/html": [
       "<div>\n",
       "<style scoped>\n",
       "    .dataframe tbody tr th:only-of-type {\n",
       "        vertical-align: middle;\n",
       "    }\n",
       "\n",
       "    .dataframe tbody tr th {\n",
       "        vertical-align: top;\n",
       "    }\n",
       "\n",
       "    .dataframe thead th {\n",
       "        text-align: right;\n",
       "    }\n",
       "</style>\n",
       "<table border=\"1\" class=\"dataframe\">\n",
       "  <thead>\n",
       "    <tr style=\"text-align: right;\">\n",
       "      <th></th>\n",
       "      <th>Sexo</th>\n",
       "      <th>Altura(m)</th>\n",
       "      <th>Peso(kg)</th>\n",
       "    </tr>\n",
       "  </thead>\n",
       "  <tbody>\n",
       "    <tr>\n",
       "      <th>0</th>\n",
       "      <td>M</td>\n",
       "      <td>1.88</td>\n",
       "      <td>109.7</td>\n",
       "    </tr>\n",
       "    <tr>\n",
       "      <th>1</th>\n",
       "      <td>M</td>\n",
       "      <td>1.75</td>\n",
       "      <td>73.6</td>\n",
       "    </tr>\n",
       "    <tr>\n",
       "      <th>2</th>\n",
       "      <td>M</td>\n",
       "      <td>1.88</td>\n",
       "      <td>96.5</td>\n",
       "    </tr>\n",
       "    <tr>\n",
       "      <th>3</th>\n",
       "      <td>M</td>\n",
       "      <td>1.82</td>\n",
       "      <td>99.8</td>\n",
       "    </tr>\n",
       "    <tr>\n",
       "      <th>4</th>\n",
       "      <td>M</td>\n",
       "      <td>1.77</td>\n",
       "      <td>93.6</td>\n",
       "    </tr>\n",
       "  </tbody>\n",
       "</table>\n",
       "</div>"
      ]
     },
     "execution_count": 14,
     "metadata": {},
     "output_type": "execute_result"
    }
   ],
   "execution_count": 14
  },
  {
   "cell_type": "markdown",
   "id": "e7e260003e63cd30",
   "metadata": {},
   "source": [
    "## Histograma Altura Feminina"
   ]
  },
  {
   "cell_type": "code",
   "id": "5bb9cb0d31141a07",
   "metadata": {
    "ExecuteTime": {
     "end_time": "2025-03-08T20:51:32.844301Z",
     "start_time": "2025-03-08T20:51:32.840637Z"
    }
   },
   "source": [
    "fh = df.loc[df['Sexo'] == 'F']['Altura(m)']\n",
    "fh.head()"
   ],
   "outputs": [
    {
     "data": {
      "text/plain": [
       "5000    1.50\n",
       "5001    1.66\n",
       "5002    1.61\n",
       "5003    1.64\n",
       "5004    1.57\n",
       "Name: Altura(m), dtype: float64"
      ]
     },
     "execution_count": 15,
     "metadata": {},
     "output_type": "execute_result"
    }
   ],
   "execution_count": 15
  },
  {
   "cell_type": "code",
   "id": "b5178e864ba3598c",
   "metadata": {
    "ExecuteTime": {
     "end_time": "2025-03-08T20:51:34.251218Z",
     "start_time": "2025-03-08T20:51:34.184181Z"
    }
   },
   "source": "cfh.freq_hist(data_series=fh, bars=9, title='Altura Mulheres', unit='Metros')",
   "outputs": [
    {
     "data": {
      "text/plain": [
       "<Figure size 1000x500 with 1 Axes>"
      ],
      "image/png": "[encoded data removed]"
     },
     "metadata": {},
     "output_type": "display_data"
    }
   ],
   "execution_count": 16
  },
  {
   "cell_type": "markdown",
   "id": "10833e32-d571-4cb4-808c-ca1572b89423",
   "metadata": {},
   "source": [
    "### Média altura feminina"
   ]
  },
  {
   "cell_type": "code",
   "id": "bfd4ac1f-28d3-4a25-aa04-076066376441",
   "metadata": {
    "ExecuteTime": {
     "end_time": "2025-03-08T20:51:39.199178Z",
     "start_time": "2025-03-08T20:51:39.195637Z"
    }
   },
   "source": [
    "print('Média = ', stat.mean(fh))"
   ],
   "outputs": [
    {
     "name": "stdout",
     "output_type": "stream",
     "text": [
      "Média =  1.618112\n"
     ]
    }
   ],
   "execution_count": 17
  },
  {
   "cell_type": "markdown",
   "id": "df2fa467-1e4b-42c9-b4d4-460d9147dc7d",
   "metadata": {},
   "source": [
    "### Mediana altura feminina"
   ]
  },
  {
   "cell_type": "code",
   "id": "ede19f9b-7ef4-4c9c-a3db-9b53abb94c4e",
   "metadata": {
    "ExecuteTime": {
     "end_time": "2025-03-08T20:51:42.683295Z",
     "start_time": "2025-03-08T20:51:42.680938Z"
    }
   },
   "source": [
    "print('Mediana = ', stat.median(fh))"
   ],
   "outputs": [
    {
     "name": "stdout",
     "output_type": "stream",
     "text": [
      "Mediana =  1.62\n"
     ]
    }
   ],
   "execution_count": 18
  },
  {
   "cell_type": "markdown",
   "id": "cd01cf12-c386-453a-8011-8988a9d428d0",
   "metadata": {},
   "source": [
    "### Moda altura feminina"
   ]
  },
  {
   "cell_type": "code",
   "id": "791a5fa2-04e0-44aa-9316-abea3b5adcb5",
   "metadata": {
    "ExecuteTime": {
     "end_time": "2025-03-08T20:51:46.715719Z",
     "start_time": "2025-03-08T20:51:46.713354Z"
    }
   },
   "source": [
    "print('Moda = ', stat.mode(fh))"
   ],
   "outputs": [
    {
     "name": "stdout",
     "output_type": "stream",
     "text": [
      "Moda =  1.62\n"
     ]
    }
   ],
   "execution_count": 19
  },
  {
   "cell_type": "markdown",
   "id": "2950e027-3eda-47bb-91a8-84af12b5eaa3",
   "metadata": {},
   "source": [
    "## Histograma Altura Masculina"
   ]
  },
  {
   "cell_type": "code",
   "id": "9942b531-93ac-48c2-bc0b-5721832c8c34",
   "metadata": {
    "ExecuteTime": {
     "end_time": "2025-03-08T20:51:50.996925Z",
     "start_time": "2025-03-08T20:51:50.992555Z"
    }
   },
   "source": [
    "mh = df.loc[df['Sexo'] == 'M']['Altura(m)']\n",
    "mh.head()"
   ],
   "outputs": [
    {
     "data": {
      "text/plain": [
       "0    1.88\n",
       "1    1.75\n",
       "2    1.88\n",
       "3    1.82\n",
       "4    1.77\n",
       "Name: Altura(m), dtype: float64"
      ]
     },
     "execution_count": 20,
     "metadata": {},
     "output_type": "execute_result"
    }
   ],
   "execution_count": 20
  },
  {
   "cell_type": "code",
   "id": "0523f394-fadd-4e67-9fc5-381946772f9a",
   "metadata": {
    "ExecuteTime": {
     "end_time": "2025-03-08T20:51:52.792385Z",
     "start_time": "2025-03-08T20:51:52.721389Z"
    }
   },
   "source": "cfh.freq_hist(data_series=mh, bars=9, title='Altura Homens', unit='Metros')",
   "outputs": [
    {
     "data": {
      "text/plain": [
       "<Figure size 1000x500 with 1 Axes>"
      ],
      "image/png": "[encoded data removed]"
     },
     "metadata": {},
     "output_type": "display_data"
    }
   ],
   "execution_count": 21
  },
  {
   "cell_type": "markdown",
   "id": "9f0c8996-c420-4a62-a21f-129661558170",
   "metadata": {},
   "source": [
    "### Média altura masculina"
   ]
  },
  {
   "cell_type": "code",
   "id": "4d826907-f5a4-4829-b538-620a70cabe36",
   "metadata": {
    "ExecuteTime": {
     "end_time": "2025-03-08T20:51:55.570319Z",
     "start_time": "2025-03-08T20:51:55.567040Z"
    }
   },
   "source": [
    "print('Média = ', stat.mean(mh))"
   ],
   "outputs": [
    {
     "name": "stdout",
     "output_type": "stream",
     "text": [
      "Média =  1.75327\n"
     ]
    }
   ],
   "execution_count": 22
  },
  {
   "cell_type": "markdown",
   "id": "195bfc4c-2aae-40fa-a6cd-f25267dad899",
   "metadata": {},
   "source": [
    "### Mediana altura masculina"
   ]
  },
  {
   "cell_type": "code",
   "id": "c57922c9-fb97-464f-8d38-876fe01ea8ab",
   "metadata": {
    "ExecuteTime": {
     "end_time": "2025-03-08T20:51:57.778340Z",
     "start_time": "2025-03-08T20:51:57.776181Z"
    }
   },
   "source": [
    "print('Mediana = ', stat.median(mh))"
   ],
   "outputs": [
    {
     "name": "stdout",
     "output_type": "stream",
     "text": [
      "Mediana =  1.75\n"
     ]
    }
   ],
   "execution_count": 23
  },
  {
   "cell_type": "markdown",
   "id": "096537f3-7d44-4828-8809-36d5489aab17",
   "metadata": {},
   "source": [
    "### Moda altura masculina"
   ]
  },
  {
   "cell_type": "code",
   "id": "2722ee8e-46f4-4584-815f-559c0a9161ac",
   "metadata": {
    "ExecuteTime": {
     "end_time": "2025-03-08T20:51:59.307371Z",
     "start_time": "2025-03-08T20:51:59.304999Z"
    }
   },
   "source": [
    "print('Moda = ', stat.mode(mh))"
   ],
   "outputs": [
    {
     "name": "stdout",
     "output_type": "stream",
     "text": [
      "Moda =  1.75\n"
     ]
    }
   ],
   "execution_count": 24
  },
  {
   "cell_type": "code",
   "id": "343323d6-9ce1-4f1e-bd9c-ea92d195cbe5",
   "metadata": {
    "ExecuteTime": {
     "end_time": "2025-03-08T20:52:00.225500Z",
     "start_time": "2025-03-08T20:52:00.224106Z"
    }
   },
   "source": [],
   "outputs": [],
   "execution_count": null
  },
  {
   "metadata": {},
   "cell_type": "code",
   "outputs": [],
   "execution_count": null,
   "source": "",
   "id": "6ae8df58791deca5"
  }
 ],
 "metadata": {
  "kernelspec": {
   "display_name": "Python 3 (ipykernel)",
   "language": "python",
   "name": "python3"
  },
  "language_info": {
   "codemirror_mode": {
    "name": "ipython",
    "version": 3
   },
   "file_extension": ".py",
   "mimetype": "text/x-python",
   "name": "python",
   "nbconvert_exporter": "python",
   "pygments_lexer": "ipython3",
   "version": "3.12.9"
  }
 },
 "nbformat": 4,
 "nbformat_minor": 5
}
