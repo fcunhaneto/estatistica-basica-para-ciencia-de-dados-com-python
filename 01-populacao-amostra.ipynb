{
 "cells": [
  {
   "cell_type": "markdown",
   "id": "f8dc95cd2c01f497",
   "metadata": {},
   "source": [
    "# População x Amostra"
   ]
  },
  {
   "cell_type": "markdown",
   "id": "69843b3d1855098",
   "metadata": {},
   "source": [
    "## População"
   ]
  },
  {
   "cell_type": "markdown",
   "id": "ac51d1ab87629862",
   "metadata": {},
   "source": [
    "![População e Amostra](imagens/populacao-amostra.png)"
   ]
  },
  {
   "cell_type": "markdown",
   "id": "adeb6eb1c3335312",
   "metadata": {},
   "source": [
    "- **População** é uma coleção completa de todos os elementos (valores, pessoas, medidas, etc.) a serem estudados.\n",
    "\n",
    "- **Amostra** é um subconjunto representativo da população.\n",
    "\n",
    "- **Amostragem** é o processo de selecionar esse subconjunto.\n",
    "\n",
    "___\n",
    "\n",
    "- **Parâmetro** característica da População\n",
    "  \n",
    "- **Estatística** característica da Amostar"
   ]
  },
  {
   "cell_type": "markdown",
   "id": "ad626b6447ddf594",
   "metadata": {},
   "source": [
    "## Notações"
   ]
  },
  {
   "cell_type": "markdown",
   "id": "286466b851975f2a",
   "metadata": {},
   "source": [
    "**N** $\\Longrightarrow $ População\n",
    "\n",
    "**n** $\\Longrightarrow $ Amostra"
   ]
  },
  {
   "cell_type": "markdown",
   "id": "78b1ad90ee5f8233",
   "metadata": {},
   "source": [
    "### Exemplo: Definir o salário médio de todos os Cientistas de Dados do Brasil"
   ]
  },
  {
   "cell_type": "markdown",
   "id": "e29435e78fc08a35",
   "metadata": {},
   "source": [
    "**Tema** $\\Longrightarrow$ Salário médio de todos os Cientistas de Dados do Brasil.\n",
    "\n",
    "**População** $\\Longrightarrow$ Salário de todos os Cientistas de Dados do Brasil.\n",
    "\n",
    "**Parâmetro** $\\Longrightarrow$ Salário médio de todos os Cientistas de Dados do Brasil.\n",
    "\n",
    "**Amostra** $\\Longrightarrow $ 84 Salário de Cientistas de Dados do Brasil.\n",
    "\n",
    "**Estatística** $\\Longrightarrow $ Média dos 84 salários.\n",
    "\n",
    "**Variável** $\\Longrightarrow $ característica de interesse coletada em cada item da amostra (ex: salário).\n",
    "\n",
    "**Dado** $\\Longrightarrow $ valor numérico de um salário em si (ex: R$ 8.743,63)."
   ]
  },
  {
   "cell_type": "code",
   "execution_count": null,
   "id": "8cce916a36db67a7",
   "metadata": {},
   "outputs": [],
   "source": []
  }
 ],
 "metadata": {
  "kernelspec": {
   "display_name": "Python 3 (ipykernel)",
   "language": "python",
   "name": "python3"
  },
  "language_info": {
   "codemirror_mode": {
    "name": "ipython",
    "version": 3
   },
   "file_extension": ".py",
   "mimetype": "text/x-python",
   "name": "python",
   "nbconvert_exporter": "python",
   "pygments_lexer": "ipython3",
   "version": "3.12.9"
  }
 },
 "nbformat": 4,
 "nbformat_minor": 5
}
