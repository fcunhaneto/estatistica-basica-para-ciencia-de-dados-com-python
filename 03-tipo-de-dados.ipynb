{
 "cells": [
  {
   "cell_type": "markdown",
   "id": "a3fc7c9357c67071",
   "metadata": {},
   "source": [
    "# Tipos de Dados"
   ]
  },
  {
   "cell_type": "markdown",
   "id": "93522892db34c8cf",
   "metadata": {},
   "source": [
    "![Tipos de Dados](imagens/tipos-dados.png)"
   ]
  },
  {
   "cell_type": "markdown",
   "id": "9ae4c1a4f324ce0a",
   "metadata": {},
   "source": [
    "## Variáveis Qualitativas (Categóricas)\n",
    "\n",
    "Representam categorias ou classificações e não possuem um significado numérico direto.\\\n",
    "Podem ser nominais ou ordinais:"
   ]
  },
  {
   "cell_type": "markdown",
   "id": "bc8ebf7634772377",
   "metadata": {},
   "source": [
    "### Nominal"
   ]
  },
  {
   "cell_type": "markdown",
   "id": "e65bc9921692f99d",
   "metadata": {},
   "source": [
    "Categorias sem ordem específica.\n",
    "- Exemplo: Cores (vermelho, azul, verde), estados civis (solteiro, casado, divorciado)."
   ]
  },
  {
   "cell_type": "markdown",
   "id": "2c760643eef8d725",
   "metadata": {},
   "source": [
    "### Ordinal"
   ]
  },
  {
   "cell_type": "markdown",
   "id": "e148146339c943d9",
   "metadata": {},
   "source": [
    "Categorias com uma ordem natural, mas sem uma diferença mensurável entre elas.\n",
    "- Exemplo: Níveis de escolaridade (fundamental, médio, superior), níveis de satisfação (ruim, médio, bom)."
   ]
  },
  {
   "cell_type": "markdown",
   "id": "6e50431f06555819",
   "metadata": {},
   "source": [
    "## Variáveis Quantitativas (Numéricas)\n",
    "\n",
    "Representam valores numéricos e podem ser medidas.\\\n",
    "Podem ser contínuas ou discretas"
   ]
  },
  {
   "cell_type": "markdown",
   "id": "47756c7f2260d30d",
   "metadata": {},
   "source": [
    "### Discreta"
   ]
  },
  {
   "cell_type": "markdown",
   "id": "241d5469ff301b36",
   "metadata": {},
   "source": [
    "Assume valores contáveis, geralmente números inteiros.\n",
    "- Exemplo: Número de filhos, quantidade de carros em um estacionamento."
   ]
  },
  {
   "cell_type": "markdown",
   "id": "ac7f9d0aa65c1edc",
   "metadata": {},
   "source": [
    "### Contínua"
   ]
  },
  {
   "cell_type": "markdown",
   "id": "23981867709a362c",
   "metadata": {},
   "source": [
    "Pode assumir qualquer valor em um intervalo, incluindo casas decimais.\n",
    "- Exemplo: Altura, peso, temperatura."
   ]
  },
  {
   "cell_type": "markdown",
   "id": "b058dad5-9c6e-42c1-9d70-43bd2e88327e",
   "metadata": {},
   "source": [
    "## As Variáveis Quantitativas ainda podem ser classifcadas como:"
   ]
  },
  {
   "cell_type": "markdown",
   "id": "c3b08796-e390-4001-9f60-b6add681eec9",
   "metadata": {},
   "source": [
    "### Variáveis Intervalares"
   ]
  },
  {
   "cell_type": "markdown",
   "id": "b83e47e2-62f5-4940-816e-b196cc4cf440",
   "metadata": {},
   "source": [
    "Espaço entre dois números é bem definido. \n",
    "Possuem uma ordem natural e intervalos iguais entre os valores.\n",
    "\n",
    "Não possuem um zero absoluto (ou verdadeiro), ou seja, o zero não representa nenhum ou nada.\n",
    "\n",
    "- Exemplo: Temperatura em graus Celsius ou Fahrenheit. O zero nesses casos não significa ausência de temperatura, apenas um ponto arbitrário da escala."
   ]
  },
  {
   "cell_type": "markdown",
   "id": "0f545c60-3f7a-4cf4-84af-3ba6ef46aa38",
   "metadata": {},
   "source": [
    "### Variáveis Racionais (ou Razão)"
   ]
  },
  {
   "cell_type": "markdown",
   "id": "cb54f46e-9188-4994-892b-9d1bccdd127b",
   "metadata": {},
   "source": [
    "Também possuem ordem e intervalos iguais entre os valores.\n",
    "\n",
    "Possuem um zero absoluto, o que permite interpretar razões entre os valores.\n",
    "\n",
    "- Exemplo: idade, peso, número de filhos (6 filhos e duas vezes maior que 3 filhos)"
   ]
  },
  {
   "cell_type": "code",
   "execution_count": null,
   "id": "59db92e7-1736-4d47-8ed8-84f542d4a9a9",
   "metadata": {},
   "outputs": [],
   "source": []
  }
 ],
 "metadata": {
  "kernelspec": {
   "display_name": "Python 3 (ipykernel)",
   "language": "python",
   "name": "python3"
  },
  "language_info": {
   "codemirror_mode": {
    "name": "ipython",
    "version": 3
   },
   "file_extension": ".py",
   "mimetype": "text/x-python",
   "name": "python",
   "nbconvert_exporter": "python",
   "pygments_lexer": "ipython3",
   "version": "3.12.9"
  }
 },
 "nbformat": 4,
 "nbformat_minor": 5
}
