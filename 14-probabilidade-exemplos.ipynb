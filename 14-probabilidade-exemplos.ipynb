{
 "cells": [
  {
   "cell_type": "markdown",
   "id": "dd135bc2d941672d",
   "metadata": {},
   "source": [
    "![Cartas de Uno](imagens/redblue.png)"
   ]
  },
  {
   "cell_type": "markdown",
   "id": "d4212433037ee8b2",
   "metadata": {},
   "source": [
    "### A probabilidade de ser Azul ou Par?"
   ]
  },
  {
   "cell_type": "markdown",
   "id": "a622ffa162977ba6",
   "metadata": {},
   "source": [
    "$P(Azul) = \\frac{4}{8}$\n",
    "\n",
    "$P(Par|Azul) = \\frac{2}{4}$\n",
    "\n",
    "$P(Azul \\cup Par) = P(Azul) P(Azul|Par)$\n",
    "\n",
    "$P(Azul \\cup Par) = \\frac{4}{8} \\text{ } \\frac{2}{4}$"
   ]
  },
  {
   "cell_type": "code",
   "execution_count": 4,
   "id": "2f7a8c61643565b8",
   "metadata": {
    "ExecuteTime": {
     "end_time": "2025-03-12T13:49:42.764930Z",
     "start_time": "2025-03-12T13:49:42.762822Z"
    }
   },
   "outputs": [
    {
     "data": {
      "text/plain": [
       "0.25"
      ]
     },
     "execution_count": 4,
     "metadata": {},
     "output_type": "execute_result"
    }
   ],
   "source": [
    "P = (4/8 * 2/4)\n",
    "P"
   ]
  },
  {
   "cell_type": "markdown",
   "id": "b048ac2149e8c099",
   "metadata": {},
   "source": [
    "### A probabilidade de ser Azul sabendo que a carta é par?"
   ]
  },
  {
   "cell_type": "markdown",
   "id": "66df15f8-aa8e-41d7-ae63-825e73482a6a",
   "metadata": {},
   "source": [
    "$P(Azul|Par) = \\frac{P(Azul \\cap Par)}{P(Par)}$\n",
    "\n",
    "$P(Par) = \\frac{4}{8}$\n",
    "\n",
    "$P(Azul \\cap Par) = \\frac{2}{8}$\n",
    "\n",
    "$P(Azul|Par) = \\frac{2/8}{4/8}$"
   ]
  },
  {
   "cell_type": "code",
   "execution_count": 1,
   "id": "11ce156e064aa26c",
   "metadata": {
    "ExecuteTime": {
     "end_time": "2025-03-12T14:00:26.146606Z",
     "start_time": "2025-03-12T14:00:26.144274Z"
    }
   },
   "outputs": [
    {
     "data": {
      "text/plain": [
       "0.5"
      ]
     },
     "execution_count": 1,
     "metadata": {},
     "output_type": "execute_result"
    }
   ],
   "source": [
    "P = (2/8) / (4/8)\n",
    "P"
   ]
  },
  {
   "cell_type": "markdown",
   "id": "cb13856a252d1042",
   "metadata": {},
   "source": [
    "### Probabilidade de ser Azul ou Par"
   ]
  },
  {
   "cell_type": "markdown",
   "id": "77a6f19a-e792-457e-92a5-0a0bcb36ce32",
   "metadata": {},
   "source": [
    "$P(Azul) = \\frac{4}{8}$\n",
    "\n",
    "$P(Par) = \\frac{4}{8}$\n",
    "\n",
    "$P(A \\cap B) = \\frac{2}{8}$\n",
    "\n",
    "$P(Azul \\cup Par) = P(A) + P(B) - P(A \\cap B)$\n",
    "\n",
    "$P(Azul \\cup Par) = \\frac{4}{8} + \\frac{4}{8} - \\frac{2}{8}$"
   ]
  },
  {
   "cell_type": "code",
   "execution_count": 2,
   "id": "4968120c74c1606e",
   "metadata": {
    "ExecuteTime": {
     "end_time": "2025-03-12T14:05:57.957718Z",
     "start_time": "2025-03-12T14:05:57.955349Z"
    }
   },
   "outputs": [
    {
     "data": {
      "text/plain": [
       "0.75"
      ]
     },
     "execution_count": 2,
     "metadata": {},
     "output_type": "execute_result"
    }
   ],
   "source": [
    "P = (4/8) + (4/8) - (2/8)\n",
    "P"
   ]
  },
  {
   "cell_type": "markdown",
   "id": "6efefd09-4650-4501-a1c5-6249b769d3a6",
   "metadata": {},
   "source": [
    "### A probabilidade de pegar aleatoriamente duas cartas Azul sem substituição"
   ]
  },
  {
   "cell_type": "markdown",
   "id": "078934c7-62cf-4036-8b49-84bba1675751",
   "metadata": {},
   "source": [
    "$P(\\text{Azul}_{1}|\\text{Azul}_{2}) = \\frac{4}{8} \\frac{3}{7}$"
   ]
  },
  {
   "cell_type": "code",
   "execution_count": 3,
   "id": "54ddfff4-ea41-4487-b023-82d72e2f1950",
   "metadata": {},
   "outputs": [
    {
     "data": {
      "text/plain": [
       "0.21428571428571427"
      ]
     },
     "execution_count": 3,
     "metadata": {},
     "output_type": "execute_result"
    }
   ],
   "source": [
    "P = (4/8) * (3/7)\n",
    "P"
   ]
  },
  {
   "cell_type": "code",
   "execution_count": null,
   "id": "6f17d4b0-3ebf-4a60-ab34-77788a3c53f1",
   "metadata": {},
   "outputs": [],
   "source": []
  }
 ],
 "metadata": {
  "kernelspec": {
   "display_name": "Python 3 (ipykernel)",
   "language": "python",
   "name": "python3"
  },
  "language_info": {
   "codemirror_mode": {
    "name": "ipython",
    "version": 3
   },
   "file_extension": ".py",
   "mimetype": "text/x-python",
   "name": "python",
   "nbconvert_exporter": "python",
   "pygments_lexer": "ipython3",
   "version": "3.12.9"
  }
 },
 "nbformat": 4,
 "nbformat_minor": 5
}
