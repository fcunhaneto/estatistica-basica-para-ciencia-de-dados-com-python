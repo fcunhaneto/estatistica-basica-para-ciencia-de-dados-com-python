{
 "cells": [
  {
   "cell_type": "code",
   "execution_count": 7,
   "id": "3e8f566d-9b99-4faf-ba76-533c16f3ba1b",
   "metadata": {},
   "outputs": [],
   "source": [
    "import random\n",
    "l = [random.randint(1, 6) for x in range(100)]"
   ]
  },
  {
   "cell_type": "code",
   "execution_count": 11,
   "id": "6adeacf0-3f25-47e3-96a0-8f84ff56aa67",
   "metadata": {},
   "outputs": [],
   "source": [
    "d = {1: 0, 2: 0, 3: 0, 4: 0 , 5: 0, 6: 0}\n",
    "for x in l:\n",
    "    d[x] = d[x] + 1 "
   ]
  },
  {
   "cell_type": "code",
   "execution_count": 12,
   "id": "c5216377-c58e-45ec-bdc2-1ecdff3d91ee",
   "metadata": {},
   "outputs": [
    {
     "data": {
      "text/plain": [
       "{1: 18, 2: 18, 3: 16, 4: 22, 5: 11, 6: 15}"
      ]
     },
     "execution_count": 12,
     "metadata": {},
     "output_type": "execute_result"
    }
   ],
   "source": [
    "d"
   ]
  },
  {
   "cell_type": "code",
   "execution_count": 13,
   "id": "887ad7eb-d87d-4fac-a251-f5dc830133c7",
   "metadata": {},
   "outputs": [
    {
     "data": {
      "text/plain": [
       "100"
      ]
     },
     "execution_count": 13,
     "metadata": {},
     "output_type": "execute_result"
    }
   ],
   "source": [
    "18+18+16+22+11+15"
   ]
  },
  {
   "cell_type": "code",
   "execution_count": 14,
   "id": "48fb2419-be30-44fa-bc03-053d25784c54",
   "metadata": {},
   "outputs": [
    {
     "data": {
      "text/plain": [
       "0.18"
      ]
     },
     "execution_count": 14,
     "metadata": {},
     "output_type": "execute_result"
    }
   ],
   "source": [
    "18 / 100"
   ]
  },
  {
   "cell_type": "code",
   "execution_count": 15,
   "id": "66730358-d2f8-4387-95a5-d6a95cfc00bf",
   "metadata": {},
   "outputs": [
    {
     "data": {
      "text/plain": [
       "0.16666666666666666"
      ]
     },
     "execution_count": 15,
     "metadata": {},
     "output_type": "execute_result"
    }
   ],
   "source": [
    "1/6"
   ]
  },
  {
   "cell_type": "code",
   "execution_count": null,
   "id": "34056c7d-7bc4-4505-8425-765e6ae3a94e",
   "metadata": {},
   "outputs": [],
   "source": []
  }
 ],
 "metadata": {
  "kernelspec": {
   "display_name": "Python 3 (ipykernel)",
   "language": "python",
   "name": "python3"
  },
  "language_info": {
   "codemirror_mode": {
    "name": "ipython",
    "version": 3
   },
   "file_extension": ".py",
   "mimetype": "text/x-python",
   "name": "python",
   "nbconvert_exporter": "python",
   "pygments_lexer": "ipython3",
   "version": "3.12.9"
  }
 },
 "nbformat": 4,
 "nbformat_minor": 5
}
