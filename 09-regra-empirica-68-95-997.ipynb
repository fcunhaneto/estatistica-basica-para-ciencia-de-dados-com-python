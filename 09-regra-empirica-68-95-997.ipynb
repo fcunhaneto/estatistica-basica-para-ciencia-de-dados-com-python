{
 "cells": [
  {
   "cell_type": "markdown",
   "id": "17ba0f94f027fa37",
   "metadata": {},
   "source": [
    "# Regra Empírica 68-95-99,7"
   ]
  },
  {
   "metadata": {},
   "cell_type": "markdown",
   "source": "![](imagens/normal.png)",
   "id": "86ad4c5a86d159e3"
  },
  {
   "metadata": {},
   "cell_type": "code",
   "outputs": [],
   "execution_count": null,
   "source": "",
   "id": "1e471d4e41d9db76"
  }
 ],
 "metadata": {
  "kernelspec": {
   "display_name": "Python 3 (ipykernel)",
   "language": "python",
   "name": "python3"
  },
  "language_info": {
   "codemirror_mode": {
    "name": "ipython",
    "version": 3
   },
   "file_extension": ".py",
   "mimetype": "text/x-python",
   "name": "python",
   "nbconvert_exporter": "python",
   "pygments_lexer": "ipython3",
   "version": "3.12.9"
  }
 },
 "nbformat": 4,
 "nbformat_minor": 5
}
